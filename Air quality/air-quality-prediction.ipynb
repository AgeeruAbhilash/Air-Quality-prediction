{
 "cells": [
  {
   "cell_type": "code",
   "execution_count": 1,
   "id": "6228266f",
   "metadata": {
    "execution": {
     "iopub.execute_input": "2022-03-31T11:19:13.013589Z",
     "iopub.status.busy": "2022-03-31T11:19:13.012911Z",
     "iopub.status.idle": "2022-03-31T11:19:14.502767Z",
     "shell.execute_reply": "2022-03-31T11:19:14.501981Z",
     "shell.execute_reply.started": "2022-03-31T11:10:50.191155Z"
    },
    "papermill": {
     "duration": 1.572637,
     "end_time": "2022-03-31T11:19:14.502931",
     "exception": false,
     "start_time": "2022-03-31T11:19:12.930294",
     "status": "completed"
    },
    "tags": []
   },
   "outputs": [],
   "source": [
    "import pandas as pd\n",
    "import numpy as np\n",
    "import seaborn as sns\n",
    "import matplotlib.pyplot as plt\n",
    "import warnings\n",
    "warnings.filterwarnings(\"ignore\")\n",
    "\n",
    "from sklearn.preprocessing import LabelEncoder\n",
    "from sklearn.model_selection import train_test_split\n",
    "from sklearn.linear_model import LinearRegression\n",
    "from sklearn.tree import DecisionTreeRegressor\n",
    "from sklearn.ensemble import RandomForestRegressor\n",
    "from sklearn import metrics\n",
    "from sklearn.metrics import mean_absolute_error,mean_squared_error,r2_score\n",
    "from sklearn.metrics import accuracy_score,confusion_matrix"
   ]
  },
  {
   "cell_type": "code",
   "execution_count": 2,
   "id": "d0fa80c9",
   "metadata": {
    "execution": {
     "iopub.execute_input": "2022-03-31T11:19:14.664117Z",
     "iopub.status.busy": "2022-03-31T11:19:14.663452Z",
     "iopub.status.idle": "2022-03-31T11:19:16.599485Z",
     "shell.execute_reply": "2022-03-31T11:19:16.600008Z",
     "shell.execute_reply.started": "2022-03-31T11:10:51.535945Z"
    },
    "papermill": {
     "duration": 2.018932,
     "end_time": "2022-03-31T11:19:16.600192",
     "exception": false,
     "start_time": "2022-03-31T11:19:14.581260",
     "status": "completed"
    },
    "tags": []
   },
   "outputs": [],
   "source": [
    "df=pd.read_csv('data.csv',encoding='unicode_escape')\n",
    "# Reading the dataset"
   ]
  },
  {
   "cell_type": "markdown",
   "id": "86f33bbb",
   "metadata": {
    "papermill": {
     "duration": 0.078248,
     "end_time": "2022-03-31T11:19:16.757597",
     "exception": false,
     "start_time": "2022-03-31T11:19:16.679349",
     "status": "completed"
    },
    "tags": []
   },
   "source": [
    "## Data Understanding"
   ]
  },
  {
   "cell_type": "code",
   "execution_count": 3,
   "id": "6a9f2262",
   "metadata": {
    "execution": {
     "iopub.execute_input": "2022-03-31T11:19:16.923141Z",
     "iopub.status.busy": "2022-03-31T11:19:16.922105Z",
     "iopub.status.idle": "2022-03-31T11:19:16.943718Z",
     "shell.execute_reply": "2022-03-31T11:19:16.944253Z",
     "shell.execute_reply.started": "2022-03-31T11:10:53.174510Z"
    },
    "papermill": {
     "duration": 0.108817,
     "end_time": "2022-03-31T11:19:16.944429",
     "exception": false,
     "start_time": "2022-03-31T11:19:16.835612",
     "status": "completed"
    },
    "tags": []
   },
   "outputs": [
    {
     "data": {
      "text/html": [
       "<div>\n",
       "<style scoped>\n",
       "    .dataframe tbody tr th:only-of-type {\n",
       "        vertical-align: middle;\n",
       "    }\n",
       "\n",
       "    .dataframe tbody tr th {\n",
       "        vertical-align: top;\n",
       "    }\n",
       "\n",
       "    .dataframe thead th {\n",
       "        text-align: right;\n",
       "    }\n",
       "</style>\n",
       "<table border=\"1\" class=\"dataframe\">\n",
       "  <thead>\n",
       "    <tr style=\"text-align: right;\">\n",
       "      <th></th>\n",
       "      <th>stn_code</th>\n",
       "      <th>sampling_date</th>\n",
       "      <th>state</th>\n",
       "      <th>location</th>\n",
       "      <th>agency</th>\n",
       "      <th>type</th>\n",
       "      <th>so2</th>\n",
       "      <th>no2</th>\n",
       "      <th>rspm</th>\n",
       "      <th>spm</th>\n",
       "      <th>location_monitoring_station</th>\n",
       "      <th>pm2_5</th>\n",
       "      <th>date</th>\n",
       "    </tr>\n",
       "  </thead>\n",
       "  <tbody>\n",
       "    <tr>\n",
       "      <th>0</th>\n",
       "      <td>95.0</td>\n",
       "      <td>01-02-2004</td>\n",
       "      <td>Andhra Pradesh</td>\n",
       "      <td>Hyderabad</td>\n",
       "      <td>Andhra Pradesh State Pollution Control Board</td>\n",
       "      <td>Industrial Area</td>\n",
       "      <td>12.9</td>\n",
       "      <td>55.8</td>\n",
       "      <td>143.7</td>\n",
       "      <td>370.7</td>\n",
       "      <td>C.I.T.D., Balanagar, Plot no. A1 to A8, IDA, H...</td>\n",
       "      <td>NaN</td>\n",
       "      <td>01-02-2004</td>\n",
       "    </tr>\n",
       "    <tr>\n",
       "      <th>1</th>\n",
       "      <td>95.0</td>\n",
       "      <td>01-05-2004</td>\n",
       "      <td>Andhra Pradesh</td>\n",
       "      <td>Hyderabad</td>\n",
       "      <td>Andhra Pradesh State Pollution Control Board</td>\n",
       "      <td>Industrial Area</td>\n",
       "      <td>10.4</td>\n",
       "      <td>48.9</td>\n",
       "      <td>124.7</td>\n",
       "      <td>285.7</td>\n",
       "      <td>C.I.T.D., Balanagar, Plot no. A1 to A8, IDA, H...</td>\n",
       "      <td>NaN</td>\n",
       "      <td>01-05-2004</td>\n",
       "    </tr>\n",
       "    <tr>\n",
       "      <th>2</th>\n",
       "      <td>95.0</td>\n",
       "      <td>01-09-2004</td>\n",
       "      <td>Andhra Pradesh</td>\n",
       "      <td>Hyderabad</td>\n",
       "      <td>Andhra Pradesh State Pollution Control Board</td>\n",
       "      <td>Industrial Area</td>\n",
       "      <td>7.6</td>\n",
       "      <td>50.1</td>\n",
       "      <td>88.0</td>\n",
       "      <td>221.3</td>\n",
       "      <td>C.I.T.D., Balanagar, Plot no. A1 to A8, IDA, H...</td>\n",
       "      <td>NaN</td>\n",
       "      <td>01-09-2004</td>\n",
       "    </tr>\n",
       "    <tr>\n",
       "      <th>3</th>\n",
       "      <td>95.0</td>\n",
       "      <td>01-12-2004</td>\n",
       "      <td>Andhra Pradesh</td>\n",
       "      <td>Hyderabad</td>\n",
       "      <td>Andhra Pradesh State Pollution Control Board</td>\n",
       "      <td>Industrial Area</td>\n",
       "      <td>7.3</td>\n",
       "      <td>48.5</td>\n",
       "      <td>82.7</td>\n",
       "      <td>186.7</td>\n",
       "      <td>C.I.T.D., Balanagar, Plot no. A1 to A8, IDA, H...</td>\n",
       "      <td>NaN</td>\n",
       "      <td>01-12-2004</td>\n",
       "    </tr>\n",
       "    <tr>\n",
       "      <th>4</th>\n",
       "      <td>95.0</td>\n",
       "      <td>16-01-2004</td>\n",
       "      <td>Andhra Pradesh</td>\n",
       "      <td>Hyderabad</td>\n",
       "      <td>Andhra Pradesh State Pollution Control Board</td>\n",
       "      <td>Industrial Area</td>\n",
       "      <td>6.8</td>\n",
       "      <td>110.3</td>\n",
       "      <td>122.3</td>\n",
       "      <td>270.7</td>\n",
       "      <td>C.I.T.D., Balanagar, Plot no. A1 to A8, IDA, H...</td>\n",
       "      <td>NaN</td>\n",
       "      <td>16-01-2004</td>\n",
       "    </tr>\n",
       "  </tbody>\n",
       "</table>\n",
       "</div>"
      ],
      "text/plain": [
       "   stn_code sampling_date           state   location  \\\n",
       "0      95.0    01-02-2004  Andhra Pradesh  Hyderabad   \n",
       "1      95.0    01-05-2004  Andhra Pradesh  Hyderabad   \n",
       "2      95.0    01-09-2004  Andhra Pradesh  Hyderabad   \n",
       "3      95.0    01-12-2004  Andhra Pradesh  Hyderabad   \n",
       "4      95.0    16-01-2004  Andhra Pradesh  Hyderabad   \n",
       "\n",
       "                                         agency             type   so2    no2  \\\n",
       "0  Andhra Pradesh State Pollution Control Board  Industrial Area  12.9   55.8   \n",
       "1  Andhra Pradesh State Pollution Control Board  Industrial Area  10.4   48.9   \n",
       "2  Andhra Pradesh State Pollution Control Board  Industrial Area   7.6   50.1   \n",
       "3  Andhra Pradesh State Pollution Control Board  Industrial Area   7.3   48.5   \n",
       "4  Andhra Pradesh State Pollution Control Board  Industrial Area   6.8  110.3   \n",
       "\n",
       "    rspm    spm                        location_monitoring_station  pm2_5  \\\n",
       "0  143.7  370.7  C.I.T.D., Balanagar, Plot no. A1 to A8, IDA, H...    NaN   \n",
       "1  124.7  285.7  C.I.T.D., Balanagar, Plot no. A1 to A8, IDA, H...    NaN   \n",
       "2   88.0  221.3  C.I.T.D., Balanagar, Plot no. A1 to A8, IDA, H...    NaN   \n",
       "3   82.7  186.7  C.I.T.D., Balanagar, Plot no. A1 to A8, IDA, H...    NaN   \n",
       "4  122.3  270.7  C.I.T.D., Balanagar, Plot no. A1 to A8, IDA, H...    NaN   \n",
       "\n",
       "         date  \n",
       "0  01-02-2004  \n",
       "1  01-05-2004  \n",
       "2  01-09-2004  \n",
       "3  01-12-2004  \n",
       "4  16-01-2004  "
      ]
     },
     "execution_count": 3,
     "metadata": {},
     "output_type": "execute_result"
    }
   ],
   "source": [
    "df.head() \n",
    "# Loading the dataset"
   ]
  },
  {
   "cell_type": "code",
   "execution_count": 4,
   "id": "65e9bb88",
   "metadata": {
    "execution": {
     "iopub.execute_input": "2022-03-31T11:19:17.110544Z",
     "iopub.status.busy": "2022-03-31T11:19:17.109627Z",
     "iopub.status.idle": "2022-03-31T11:19:17.113781Z",
     "shell.execute_reply": "2022-03-31T11:19:17.113135Z",
     "shell.execute_reply.started": "2022-03-31T11:10:53.202874Z"
    },
    "papermill": {
     "duration": 0.090433,
     "end_time": "2022-03-31T11:19:17.113923",
     "exception": false,
     "start_time": "2022-03-31T11:19:17.023490",
     "status": "completed"
    },
    "tags": []
   },
   "outputs": [
    {
     "data": {
      "text/plain": [
       "(166468, 13)"
      ]
     },
     "execution_count": 4,
     "metadata": {},
     "output_type": "execute_result"
    }
   ],
   "source": [
    "df.shape\n",
    "# As we can see that there are 4,35,742 rows and 13 columns in the dataset"
   ]
  },
  {
   "cell_type": "code",
   "execution_count": 5,
   "id": "6990e64c",
   "metadata": {
    "execution": {
     "iopub.execute_input": "2022-03-31T11:19:17.276854Z",
     "iopub.status.busy": "2022-03-31T11:19:17.276175Z",
     "iopub.status.idle": "2022-03-31T11:19:17.644873Z",
     "shell.execute_reply": "2022-03-31T11:19:17.645425Z",
     "shell.execute_reply.started": "2022-03-31T11:10:53.209797Z"
    },
    "papermill": {
     "duration": 0.453117,
     "end_time": "2022-03-31T11:19:17.645668",
     "exception": false,
     "start_time": "2022-03-31T11:19:17.192551",
     "status": "completed"
    },
    "tags": []
   },
   "outputs": [
    {
     "name": "stdout",
     "output_type": "stream",
     "text": [
      "<class 'pandas.core.frame.DataFrame'>\n",
      "RangeIndex: 166468 entries, 0 to 166467\n",
      "Data columns (total 13 columns):\n",
      "stn_code                       41297 non-null float64\n",
      "sampling_date                  166468 non-null object\n",
      "state                          166468 non-null object\n",
      "location                       166468 non-null object\n",
      "agency                         41297 non-null object\n",
      "type                           166267 non-null object\n",
      "so2                            143456 non-null float64\n",
      "no2                            158953 non-null float64\n",
      "rspm                           166468 non-null float64\n",
      "spm                            166468 non-null float64\n",
      "location_monitoring_station    165173 non-null object\n",
      "pm2_5                          0 non-null float64\n",
      "date                           166468 non-null object\n",
      "dtypes: float64(6), object(7)\n",
      "memory usage: 16.5+ MB\n"
     ]
    }
   ],
   "source": [
    "df.info()\n",
    "# Checking the over all information on the dataset."
   ]
  },
  {
   "cell_type": "code",
   "execution_count": 6,
   "id": "e6e8c6f7",
   "metadata": {
    "execution": {
     "iopub.execute_input": "2022-03-31T11:19:17.814351Z",
     "iopub.status.busy": "2022-03-31T11:19:17.813696Z",
     "iopub.status.idle": "2022-03-31T11:19:18.164034Z",
     "shell.execute_reply": "2022-03-31T11:19:18.163462Z",
     "shell.execute_reply.started": "2022-03-31T11:10:53.579825Z"
    },
    "papermill": {
     "duration": 0.43764,
     "end_time": "2022-03-31T11:19:18.164183",
     "exception": false,
     "start_time": "2022-03-31T11:19:17.726543",
     "status": "completed"
    },
    "tags": []
   },
   "outputs": [
    {
     "data": {
      "text/plain": [
       "stn_code                       125171\n",
       "sampling_date                       0\n",
       "state                               0\n",
       "location                            0\n",
       "agency                         125171\n",
       "type                              201\n",
       "so2                             23012\n",
       "no2                              7515\n",
       "rspm                                0\n",
       "spm                                 0\n",
       "location_monitoring_station      1295\n",
       "pm2_5                          166468\n",
       "date                                0\n",
       "dtype: int64"
      ]
     },
     "execution_count": 6,
     "metadata": {},
     "output_type": "execute_result"
    }
   ],
   "source": [
    "df.isnull().sum()\n",
    "# There are a lot of missing values present in the dataset"
   ]
  },
  {
   "cell_type": "code",
   "execution_count": 7,
   "id": "7bbae519",
   "metadata": {
    "execution": {
     "iopub.execute_input": "2022-03-31T11:19:18.337575Z",
     "iopub.status.busy": "2022-03-31T11:19:18.336884Z",
     "iopub.status.idle": "2022-03-31T11:19:18.420093Z",
     "shell.execute_reply": "2022-03-31T11:19:18.419573Z",
     "shell.execute_reply.started": "2022-03-31T11:10:53.926722Z"
    },
    "papermill": {
     "duration": 0.176048,
     "end_time": "2022-03-31T11:19:18.420229",
     "exception": false,
     "start_time": "2022-03-31T11:19:18.244181",
     "status": "completed"
    },
    "scrolled": true,
    "tags": []
   },
   "outputs": [
    {
     "data": {
      "text/html": [
       "<div>\n",
       "<style scoped>\n",
       "    .dataframe tbody tr th:only-of-type {\n",
       "        vertical-align: middle;\n",
       "    }\n",
       "\n",
       "    .dataframe tbody tr th {\n",
       "        vertical-align: top;\n",
       "    }\n",
       "\n",
       "    .dataframe thead th {\n",
       "        text-align: right;\n",
       "    }\n",
       "</style>\n",
       "<table border=\"1\" class=\"dataframe\">\n",
       "  <thead>\n",
       "    <tr style=\"text-align: right;\">\n",
       "      <th></th>\n",
       "      <th>stn_code</th>\n",
       "      <th>so2</th>\n",
       "      <th>no2</th>\n",
       "      <th>rspm</th>\n",
       "      <th>spm</th>\n",
       "      <th>pm2_5</th>\n",
       "    </tr>\n",
       "  </thead>\n",
       "  <tbody>\n",
       "    <tr>\n",
       "      <th>count</th>\n",
       "      <td>41297.000000</td>\n",
       "      <td>143456.000000</td>\n",
       "      <td>158953.000000</td>\n",
       "      <td>166468.000000</td>\n",
       "      <td>166468.000000</td>\n",
       "      <td>0.0</td>\n",
       "    </tr>\n",
       "    <tr>\n",
       "      <th>mean</th>\n",
       "      <td>323.950117</td>\n",
       "      <td>11.195698</td>\n",
       "      <td>27.253248</td>\n",
       "      <td>105.874568</td>\n",
       "      <td>218.226735</td>\n",
       "      <td>NaN</td>\n",
       "    </tr>\n",
       "    <tr>\n",
       "      <th>std</th>\n",
       "      <td>190.209322</td>\n",
       "      <td>9.104469</td>\n",
       "      <td>18.241758</td>\n",
       "      <td>74.679164</td>\n",
       "      <td>148.871860</td>\n",
       "      <td>NaN</td>\n",
       "    </tr>\n",
       "    <tr>\n",
       "      <th>min</th>\n",
       "      <td>6.000000</td>\n",
       "      <td>0.000000</td>\n",
       "      <td>0.000000</td>\n",
       "      <td>0.000000</td>\n",
       "      <td>0.000000</td>\n",
       "      <td>NaN</td>\n",
       "    </tr>\n",
       "    <tr>\n",
       "      <th>25%</th>\n",
       "      <td>161.000000</td>\n",
       "      <td>5.300000</td>\n",
       "      <td>15.000000</td>\n",
       "      <td>55.000000</td>\n",
       "      <td>110.000000</td>\n",
       "      <td>NaN</td>\n",
       "    </tr>\n",
       "    <tr>\n",
       "      <th>50%</th>\n",
       "      <td>322.000000</td>\n",
       "      <td>8.500000</td>\n",
       "      <td>23.000000</td>\n",
       "      <td>88.000000</td>\n",
       "      <td>184.000000</td>\n",
       "      <td>NaN</td>\n",
       "    </tr>\n",
       "    <tr>\n",
       "      <th>75%</th>\n",
       "      <td>452.000000</td>\n",
       "      <td>14.200000</td>\n",
       "      <td>34.000000</td>\n",
       "      <td>136.000000</td>\n",
       "      <td>292.000000</td>\n",
       "      <td>NaN</td>\n",
       "    </tr>\n",
       "    <tr>\n",
       "      <th>max</th>\n",
       "      <td>780.000000</td>\n",
       "      <td>273.300000</td>\n",
       "      <td>334.900000</td>\n",
       "      <td>6307.033333</td>\n",
       "      <td>2610.000000</td>\n",
       "      <td>NaN</td>\n",
       "    </tr>\n",
       "  </tbody>\n",
       "</table>\n",
       "</div>"
      ],
      "text/plain": [
       "           stn_code            so2            no2           rspm  \\\n",
       "count  41297.000000  143456.000000  158953.000000  166468.000000   \n",
       "mean     323.950117      11.195698      27.253248     105.874568   \n",
       "std      190.209322       9.104469      18.241758      74.679164   \n",
       "min        6.000000       0.000000       0.000000       0.000000   \n",
       "25%      161.000000       5.300000      15.000000      55.000000   \n",
       "50%      322.000000       8.500000      23.000000      88.000000   \n",
       "75%      452.000000      14.200000      34.000000     136.000000   \n",
       "max      780.000000     273.300000     334.900000    6307.033333   \n",
       "\n",
       "                 spm  pm2_5  \n",
       "count  166468.000000    0.0  \n",
       "mean      218.226735    NaN  \n",
       "std       148.871860    NaN  \n",
       "min         0.000000    NaN  \n",
       "25%       110.000000    NaN  \n",
       "50%       184.000000    NaN  \n",
       "75%       292.000000    NaN  \n",
       "max      2610.000000    NaN  "
      ]
     },
     "execution_count": 7,
     "metadata": {},
     "output_type": "execute_result"
    }
   ],
   "source": [
    "df.describe()\n",
    "# Checking the descriptive stats of the numeric values present in the data like mean, standard deviation, min values and max value present in the data"
   ]
  },
  {
   "cell_type": "code",
   "execution_count": null,
   "id": "951648d2",
   "metadata": {},
   "outputs": [],
   "source": []
  },
  {
   "cell_type": "code",
   "execution_count": 8,
   "id": "b4c2a79c",
   "metadata": {},
   "outputs": [
    {
     "data": {
      "text/plain": [
       "166468"
      ]
     },
     "execution_count": 8,
     "metadata": {},
     "output_type": "execute_result"
    }
   ],
   "source": [
    "df.state.unique()\n",
    "df.state.count()"
   ]
  },
  {
   "cell_type": "code",
   "execution_count": 9,
   "id": "75492cf3",
   "metadata": {
    "execution": {
     "iopub.execute_input": "2022-03-31T11:19:18.584834Z",
     "iopub.status.busy": "2022-03-31T11:19:18.584190Z",
     "iopub.status.idle": "2022-03-31T11:19:18.952368Z",
     "shell.execute_reply": "2022-03-31T11:19:18.951864Z",
     "shell.execute_reply.started": "2022-03-31T11:10:54.019504Z"
    },
    "papermill": {
     "duration": 0.451122,
     "end_time": "2022-03-31T11:19:18.952541",
     "exception": false,
     "start_time": "2022-03-31T11:19:18.501419",
     "status": "completed"
    },
    "tags": []
   },
   "outputs": [
    {
     "data": {
      "text/plain": [
       "stn_code                        329\n",
       "sampling_date                  3511\n",
       "state                            32\n",
       "location                        177\n",
       "agency                           36\n",
       "type                              6\n",
       "so2                            3150\n",
       "no2                            5567\n",
       "rspm                           4230\n",
       "spm                            6591\n",
       "location_monitoring_station     673\n",
       "pm2_5                             0\n",
       "date                           3511\n",
       "dtype: int64"
      ]
     },
     "execution_count": 9,
     "metadata": {},
     "output_type": "execute_result"
    }
   ],
   "source": [
    "df.nunique()\n",
    "# These are all the unique values present in the dataframe"
   ]
  },
  {
   "cell_type": "markdown",
   "id": "36fd11a4",
   "metadata": {
    "papermill": {
     "duration": 0.107283,
     "end_time": "2022-03-31T11:20:28.508323",
     "exception": false,
     "start_time": "2022-03-31T11:20:28.401040",
     "status": "completed"
    },
    "tags": []
   },
   "source": [
    "### Checking all null values and treating those null values."
   ]
  },
  {
   "cell_type": "code",
   "execution_count": 10,
   "id": "f701075e",
   "metadata": {},
   "outputs": [
    {
     "data": {
      "text/plain": [
       "stn_code                       125171\n",
       "sampling_date                       0\n",
       "state                               0\n",
       "location                            0\n",
       "agency                         125171\n",
       "type                              201\n",
       "so2                             23012\n",
       "no2                              7515\n",
       "rspm                                0\n",
       "spm                                 0\n",
       "location_monitoring_station      1295\n",
       "pm2_5                          166468\n",
       "date                                0\n",
       "dtype: int64"
      ]
     },
     "execution_count": 10,
     "metadata": {},
     "output_type": "execute_result"
    }
   ],
   "source": [
    "df.isnull().sum()"
   ]
  },
  {
   "cell_type": "code",
   "execution_count": 11,
   "id": "c5a0b125",
   "metadata": {
    "execution": {
     "iopub.execute_input": "2022-03-31T11:20:28.726777Z",
     "iopub.status.busy": "2022-03-31T11:20:28.726121Z",
     "iopub.status.idle": "2022-03-31T11:20:29.070990Z",
     "shell.execute_reply": "2022-03-31T11:20:29.070383Z",
     "shell.execute_reply.started": "2022-03-31T11:12:00.668143Z"
    },
    "papermill": {
     "duration": 0.455563,
     "end_time": "2022-03-31T11:20:29.071133",
     "exception": false,
     "start_time": "2022-03-31T11:20:28.615570",
     "status": "completed"
    },
    "tags": []
   },
   "outputs": [],
   "source": [
    "nullvalues = df.isnull().sum().sort_values(ascending=False)\n",
    "# Checking all null values"
   ]
  },
  {
   "cell_type": "code",
   "execution_count": 12,
   "id": "dd148c25",
   "metadata": {
    "execution": {
     "iopub.execute_input": "2022-03-31T11:20:29.315410Z",
     "iopub.status.busy": "2022-03-31T11:20:29.314802Z",
     "iopub.status.idle": "2022-03-31T11:20:29.318208Z",
     "shell.execute_reply": "2022-03-31T11:20:29.318842Z",
     "shell.execute_reply.started": "2022-03-31T11:12:01.014662Z"
    },
    "papermill": {
     "duration": 0.125622,
     "end_time": "2022-03-31T11:20:29.319011",
     "exception": false,
     "start_time": "2022-03-31T11:20:29.193389",
     "status": "completed"
    },
    "tags": []
   },
   "outputs": [
    {
     "data": {
      "text/plain": [
       "pm2_5                          166468\n",
       "agency                         125171\n",
       "stn_code                       125171\n",
       "so2                             23012\n",
       "no2                              7515\n",
       "location_monitoring_station      1295\n",
       "type                              201\n",
       "date                                0\n",
       "spm                                 0\n",
       "rspm                                0\n",
       "location                            0\n",
       "state                               0\n",
       "sampling_date                       0\n",
       "dtype: int64"
      ]
     },
     "execution_count": 12,
     "metadata": {},
     "output_type": "execute_result"
    }
   ],
   "source": [
    "nullvalues\n",
    "# higher null values present in pm2_5 followed by spm"
   ]
  },
  {
   "cell_type": "code",
   "execution_count": 13,
   "id": "38e2e57a",
   "metadata": {},
   "outputs": [
    {
     "data": {
      "text/plain": [
       "stn_code                       166468\n",
       "sampling_date                  166468\n",
       "state                          166468\n",
       "location                       166468\n",
       "agency                         166468\n",
       "type                           166468\n",
       "so2                            166468\n",
       "no2                            166468\n",
       "rspm                           166468\n",
       "spm                            166468\n",
       "location_monitoring_station    166468\n",
       "pm2_5                          166468\n",
       "date                           166468\n",
       "dtype: int64"
      ]
     },
     "execution_count": 13,
     "metadata": {},
     "output_type": "execute_result"
    }
   ],
   "source": [
    "df.isnull().count()"
   ]
  },
  {
   "cell_type": "code",
   "execution_count": 14,
   "id": "2ab6bf91",
   "metadata": {
    "execution": {
     "iopub.execute_input": "2022-03-31T11:20:29.536880Z",
     "iopub.status.busy": "2022-03-31T11:20:29.534471Z",
     "iopub.status.idle": "2022-03-31T11:20:30.223616Z",
     "shell.execute_reply": "2022-03-31T11:20:30.223065Z",
     "shell.execute_reply.started": "2022-03-31T11:12:01.022581Z"
    },
    "papermill": {
     "duration": 0.797886,
     "end_time": "2022-03-31T11:20:30.223770",
     "exception": false,
     "start_time": "2022-03-31T11:20:29.425884",
     "status": "completed"
    },
    "tags": []
   },
   "outputs": [
    {
     "data": {
      "text/plain": [
       "stn_code                        75.192229\n",
       "sampling_date                    0.000000\n",
       "state                            0.000000\n",
       "location                         0.000000\n",
       "agency                          75.192229\n",
       "type                             0.120744\n",
       "so2                             13.823678\n",
       "no2                              4.514381\n",
       "rspm                             0.000000\n",
       "spm                              0.000000\n",
       "location_monitoring_station      0.777927\n",
       "pm2_5                          100.000000\n",
       "date                             0.000000\n",
       "dtype: float64"
      ]
     },
     "execution_count": 14,
     "metadata": {},
     "output_type": "execute_result"
    }
   ],
   "source": [
    "null_values_percentage = (df.isnull().sum()/df.isnull().count()*100)#.sort_values(ascending=False)\n",
    "#count(returns Non-NAN value)\n",
    "null_values_percentage"
   ]
  },
  {
   "cell_type": "code",
   "execution_count": 15,
   "id": "f2ee59c5",
   "metadata": {},
   "outputs": [
    {
     "data": {
      "text/plain": [
       "pm2_5                          100.000000\n",
       "agency                          75.192229\n",
       "stn_code                        75.192229\n",
       "so2                             13.823678\n",
       "no2                              4.514381\n",
       "location_monitoring_station      0.777927\n",
       "type                             0.120744\n",
       "date                             0.000000\n",
       "spm                              0.000000\n",
       "rspm                             0.000000\n",
       "location                         0.000000\n",
       "state                            0.000000\n",
       "sampling_date                    0.000000\n",
       "dtype: float64"
      ]
     },
     "execution_count": 15,
     "metadata": {},
     "output_type": "execute_result"
    }
   ],
   "source": [
    "null_values_percentage.sort_values(ascending=False)"
   ]
  },
  {
   "cell_type": "code",
   "execution_count": 16,
   "id": "89de5f22",
   "metadata": {
    "execution": {
     "iopub.execute_input": "2022-03-31T11:20:30.445448Z",
     "iopub.status.busy": "2022-03-31T11:20:30.444797Z",
     "iopub.status.idle": "2022-03-31T11:20:30.447465Z",
     "shell.execute_reply": "2022-03-31T11:20:30.446855Z",
     "shell.execute_reply.started": "2022-03-31T11:12:01.714818Z"
    },
    "papermill": {
     "duration": 0.115519,
     "end_time": "2022-03-31T11:20:30.447652",
     "exception": false,
     "start_time": "2022-03-31T11:20:30.332133",
     "status": "completed"
    },
    "tags": []
   },
   "outputs": [],
   "source": [
    "missing_data_with_percentage = pd.concat([nullvalues, null_values_percentage], axis=1, keys=['Total', 'Percent'])\n",
    "# Concatenating total null values and their percentage of missing values for further imputation or column deletion"
   ]
  },
  {
   "cell_type": "code",
   "execution_count": 17,
   "id": "b934a243",
   "metadata": {
    "execution": {
     "iopub.execute_input": "2022-03-31T11:20:30.672212Z",
     "iopub.status.busy": "2022-03-31T11:20:30.671547Z",
     "iopub.status.idle": "2022-03-31T11:20:30.675444Z",
     "shell.execute_reply": "2022-03-31T11:20:30.674951Z",
     "shell.execute_reply.started": "2022-03-31T11:12:01.721829Z"
    },
    "papermill": {
     "duration": 0.121146,
     "end_time": "2022-03-31T11:20:30.675605",
     "exception": false,
     "start_time": "2022-03-31T11:20:30.554459",
     "status": "completed"
    },
    "tags": []
   },
   "outputs": [
    {
     "data": {
      "text/html": [
       "<div>\n",
       "<style scoped>\n",
       "    .dataframe tbody tr th:only-of-type {\n",
       "        vertical-align: middle;\n",
       "    }\n",
       "\n",
       "    .dataframe tbody tr th {\n",
       "        vertical-align: top;\n",
       "    }\n",
       "\n",
       "    .dataframe thead th {\n",
       "        text-align: right;\n",
       "    }\n",
       "</style>\n",
       "<table border=\"1\" class=\"dataframe\">\n",
       "  <thead>\n",
       "    <tr style=\"text-align: right;\">\n",
       "      <th></th>\n",
       "      <th>Total</th>\n",
       "      <th>Percent</th>\n",
       "    </tr>\n",
       "  </thead>\n",
       "  <tbody>\n",
       "    <tr>\n",
       "      <th>agency</th>\n",
       "      <td>125171</td>\n",
       "      <td>75.192229</td>\n",
       "    </tr>\n",
       "    <tr>\n",
       "      <th>date</th>\n",
       "      <td>0</td>\n",
       "      <td>0.000000</td>\n",
       "    </tr>\n",
       "    <tr>\n",
       "      <th>location</th>\n",
       "      <td>0</td>\n",
       "      <td>0.000000</td>\n",
       "    </tr>\n",
       "    <tr>\n",
       "      <th>location_monitoring_station</th>\n",
       "      <td>1295</td>\n",
       "      <td>0.777927</td>\n",
       "    </tr>\n",
       "    <tr>\n",
       "      <th>no2</th>\n",
       "      <td>7515</td>\n",
       "      <td>4.514381</td>\n",
       "    </tr>\n",
       "    <tr>\n",
       "      <th>pm2_5</th>\n",
       "      <td>166468</td>\n",
       "      <td>100.000000</td>\n",
       "    </tr>\n",
       "    <tr>\n",
       "      <th>rspm</th>\n",
       "      <td>0</td>\n",
       "      <td>0.000000</td>\n",
       "    </tr>\n",
       "    <tr>\n",
       "      <th>sampling_date</th>\n",
       "      <td>0</td>\n",
       "      <td>0.000000</td>\n",
       "    </tr>\n",
       "    <tr>\n",
       "      <th>so2</th>\n",
       "      <td>23012</td>\n",
       "      <td>13.823678</td>\n",
       "    </tr>\n",
       "    <tr>\n",
       "      <th>spm</th>\n",
       "      <td>0</td>\n",
       "      <td>0.000000</td>\n",
       "    </tr>\n",
       "    <tr>\n",
       "      <th>state</th>\n",
       "      <td>0</td>\n",
       "      <td>0.000000</td>\n",
       "    </tr>\n",
       "    <tr>\n",
       "      <th>stn_code</th>\n",
       "      <td>125171</td>\n",
       "      <td>75.192229</td>\n",
       "    </tr>\n",
       "    <tr>\n",
       "      <th>type</th>\n",
       "      <td>201</td>\n",
       "      <td>0.120744</td>\n",
       "    </tr>\n",
       "  </tbody>\n",
       "</table>\n",
       "</div>"
      ],
      "text/plain": [
       "                              Total     Percent\n",
       "agency                       125171   75.192229\n",
       "date                              0    0.000000\n",
       "location                          0    0.000000\n",
       "location_monitoring_station    1295    0.777927\n",
       "no2                            7515    4.514381\n",
       "pm2_5                        166468  100.000000\n",
       "rspm                              0    0.000000\n",
       "sampling_date                     0    0.000000\n",
       "so2                           23012   13.823678\n",
       "spm                               0    0.000000\n",
       "state                             0    0.000000\n",
       "stn_code                     125171   75.192229\n",
       "type                            201    0.120744"
      ]
     },
     "execution_count": 17,
     "metadata": {},
     "output_type": "execute_result"
    }
   ],
   "source": [
    "missing_data_with_percentage\n",
    "# As you can see below these are the percentages of null values present in the dataset"
   ]
  },
  {
   "cell_type": "code",
   "execution_count": 18,
   "id": "74818a98",
   "metadata": {
    "execution": {
     "iopub.execute_input": "2022-03-31T11:20:30.897344Z",
     "iopub.status.busy": "2022-03-31T11:20:30.896654Z",
     "iopub.status.idle": "2022-03-31T11:20:31.032719Z",
     "shell.execute_reply": "2022-03-31T11:20:31.032103Z",
     "shell.execute_reply.started": "2022-03-31T11:12:01.738701Z"
    },
    "papermill": {
     "duration": 0.250703,
     "end_time": "2022-03-31T11:20:31.032904",
     "exception": false,
     "start_time": "2022-03-31T11:20:30.782201",
     "status": "completed"
    },
    "tags": []
   },
   "outputs": [],
   "source": [
    "df.drop(['agency'],axis=1,inplace=True)\n",
    "df.drop(['stn_code'],axis=1,inplace=True)\n",
    "df.drop(['date'],axis=1,inplace=True)\n",
    "df.drop(['sampling_date'],axis=1,inplace=True)\n",
    "df.drop(['location_monitoring_station'],axis=1,inplace=True)\n",
    "# Dropping unnecessary columns"
   ]
  },
  {
   "cell_type": "code",
   "execution_count": 19,
   "id": "cc99121a",
   "metadata": {
    "execution": {
     "iopub.execute_input": "2022-03-31T11:20:31.388730Z",
     "iopub.status.busy": "2022-03-31T11:20:31.388062Z",
     "iopub.status.idle": "2022-03-31T11:20:31.400799Z",
     "shell.execute_reply": "2022-03-31T11:20:31.400216Z",
     "shell.execute_reply.started": "2022-03-31T11:12:01.879354Z"
    },
    "papermill": {
     "duration": 0.260407,
     "end_time": "2022-03-31T11:20:31.400942",
     "exception": false,
     "start_time": "2022-03-31T11:20:31.140535",
     "status": "completed"
    },
    "tags": []
   },
   "outputs": [
    {
     "data": {
      "text/plain": [
       "state            0\n",
       "location         0\n",
       "type           201\n",
       "so2          23012\n",
       "no2           7515\n",
       "rspm             0\n",
       "spm              0\n",
       "pm2_5       166468\n",
       "dtype: int64"
      ]
     },
     "execution_count": 19,
     "metadata": {},
     "output_type": "execute_result"
    }
   ],
   "source": [
    "df.isnull().sum()\n",
    "# Now checking the null values"
   ]
  },
  {
   "cell_type": "code",
   "execution_count": 20,
   "id": "b36b779d",
   "metadata": {
    "execution": {
     "iopub.execute_input": "2022-03-31T11:20:31.642793Z",
     "iopub.status.busy": "2022-03-31T11:20:31.642080Z",
     "iopub.status.idle": "2022-03-31T11:20:31.646183Z",
     "shell.execute_reply": "2022-03-31T11:20:31.645663Z",
     "shell.execute_reply.started": "2022-03-31T11:12:02.035423Z"
    },
    "papermill": {
     "duration": 0.134615,
     "end_time": "2022-03-31T11:20:31.646318",
     "exception": false,
     "start_time": "2022-03-31T11:20:31.511703",
     "status": "completed"
    },
    "tags": []
   },
   "outputs": [
    {
     "data": {
      "text/html": [
       "<div>\n",
       "<style scoped>\n",
       "    .dataframe tbody tr th:only-of-type {\n",
       "        vertical-align: middle;\n",
       "    }\n",
       "\n",
       "    .dataframe tbody tr th {\n",
       "        vertical-align: top;\n",
       "    }\n",
       "\n",
       "    .dataframe thead th {\n",
       "        text-align: right;\n",
       "    }\n",
       "</style>\n",
       "<table border=\"1\" class=\"dataframe\">\n",
       "  <thead>\n",
       "    <tr style=\"text-align: right;\">\n",
       "      <th></th>\n",
       "      <th>state</th>\n",
       "      <th>location</th>\n",
       "      <th>type</th>\n",
       "      <th>so2</th>\n",
       "      <th>no2</th>\n",
       "      <th>rspm</th>\n",
       "      <th>spm</th>\n",
       "      <th>pm2_5</th>\n",
       "    </tr>\n",
       "  </thead>\n",
       "  <tbody>\n",
       "    <tr>\n",
       "      <th>0</th>\n",
       "      <td>Andhra Pradesh</td>\n",
       "      <td>Hyderabad</td>\n",
       "      <td>Industrial Area</td>\n",
       "      <td>12.9</td>\n",
       "      <td>55.8</td>\n",
       "      <td>143.7</td>\n",
       "      <td>370.7</td>\n",
       "      <td>NaN</td>\n",
       "    </tr>\n",
       "    <tr>\n",
       "      <th>1</th>\n",
       "      <td>Andhra Pradesh</td>\n",
       "      <td>Hyderabad</td>\n",
       "      <td>Industrial Area</td>\n",
       "      <td>10.4</td>\n",
       "      <td>48.9</td>\n",
       "      <td>124.7</td>\n",
       "      <td>285.7</td>\n",
       "      <td>NaN</td>\n",
       "    </tr>\n",
       "    <tr>\n",
       "      <th>2</th>\n",
       "      <td>Andhra Pradesh</td>\n",
       "      <td>Hyderabad</td>\n",
       "      <td>Industrial Area</td>\n",
       "      <td>7.6</td>\n",
       "      <td>50.1</td>\n",
       "      <td>88.0</td>\n",
       "      <td>221.3</td>\n",
       "      <td>NaN</td>\n",
       "    </tr>\n",
       "    <tr>\n",
       "      <th>3</th>\n",
       "      <td>Andhra Pradesh</td>\n",
       "      <td>Hyderabad</td>\n",
       "      <td>Industrial Area</td>\n",
       "      <td>7.3</td>\n",
       "      <td>48.5</td>\n",
       "      <td>82.7</td>\n",
       "      <td>186.7</td>\n",
       "      <td>NaN</td>\n",
       "    </tr>\n",
       "    <tr>\n",
       "      <th>4</th>\n",
       "      <td>Andhra Pradesh</td>\n",
       "      <td>Hyderabad</td>\n",
       "      <td>Industrial Area</td>\n",
       "      <td>6.8</td>\n",
       "      <td>110.3</td>\n",
       "      <td>122.3</td>\n",
       "      <td>270.7</td>\n",
       "      <td>NaN</td>\n",
       "    </tr>\n",
       "    <tr>\n",
       "      <th>...</th>\n",
       "      <td>...</td>\n",
       "      <td>...</td>\n",
       "      <td>...</td>\n",
       "      <td>...</td>\n",
       "      <td>...</td>\n",
       "      <td>...</td>\n",
       "      <td>...</td>\n",
       "      <td>...</td>\n",
       "    </tr>\n",
       "    <tr>\n",
       "      <th>166463</th>\n",
       "      <td>West Bengal</td>\n",
       "      <td>Kolkata</td>\n",
       "      <td>Industrial Area</td>\n",
       "      <td>8.0</td>\n",
       "      <td>54.0</td>\n",
       "      <td>106.0</td>\n",
       "      <td>50.0</td>\n",
       "      <td>NaN</td>\n",
       "    </tr>\n",
       "    <tr>\n",
       "      <th>166464</th>\n",
       "      <td>West Bengal</td>\n",
       "      <td>Kolkata</td>\n",
       "      <td>Industrial Area</td>\n",
       "      <td>9.0</td>\n",
       "      <td>49.0</td>\n",
       "      <td>123.0</td>\n",
       "      <td>54.0</td>\n",
       "      <td>NaN</td>\n",
       "    </tr>\n",
       "    <tr>\n",
       "      <th>166465</th>\n",
       "      <td>West Bengal</td>\n",
       "      <td>Kolkata</td>\n",
       "      <td>Industrial Area</td>\n",
       "      <td>7.0</td>\n",
       "      <td>47.0</td>\n",
       "      <td>107.0</td>\n",
       "      <td>50.0</td>\n",
       "      <td>NaN</td>\n",
       "    </tr>\n",
       "    <tr>\n",
       "      <th>166466</th>\n",
       "      <td>West Bengal</td>\n",
       "      <td>Kolkata</td>\n",
       "      <td>Industrial Area</td>\n",
       "      <td>7.0</td>\n",
       "      <td>50.0</td>\n",
       "      <td>130.0</td>\n",
       "      <td>53.0</td>\n",
       "      <td>NaN</td>\n",
       "    </tr>\n",
       "    <tr>\n",
       "      <th>166467</th>\n",
       "      <td>West Bengal</td>\n",
       "      <td>Kolkata</td>\n",
       "      <td>Industrial Area</td>\n",
       "      <td>7.0</td>\n",
       "      <td>47.0</td>\n",
       "      <td>124.0</td>\n",
       "      <td>47.0</td>\n",
       "      <td>NaN</td>\n",
       "    </tr>\n",
       "  </tbody>\n",
       "</table>\n",
       "<p>166468 rows × 8 columns</p>\n",
       "</div>"
      ],
      "text/plain": [
       "                 state   location             type   so2    no2   rspm    spm  \\\n",
       "0       Andhra Pradesh  Hyderabad  Industrial Area  12.9   55.8  143.7  370.7   \n",
       "1       Andhra Pradesh  Hyderabad  Industrial Area  10.4   48.9  124.7  285.7   \n",
       "2       Andhra Pradesh  Hyderabad  Industrial Area   7.6   50.1   88.0  221.3   \n",
       "3       Andhra Pradesh  Hyderabad  Industrial Area   7.3   48.5   82.7  186.7   \n",
       "4       Andhra Pradesh  Hyderabad  Industrial Area   6.8  110.3  122.3  270.7   \n",
       "...                ...        ...              ...   ...    ...    ...    ...   \n",
       "166463     West Bengal    Kolkata  Industrial Area   8.0   54.0  106.0   50.0   \n",
       "166464     West Bengal    Kolkata  Industrial Area   9.0   49.0  123.0   54.0   \n",
       "166465     West Bengal    Kolkata  Industrial Area   7.0   47.0  107.0   50.0   \n",
       "166466     West Bengal    Kolkata  Industrial Area   7.0   50.0  130.0   53.0   \n",
       "166467     West Bengal    Kolkata  Industrial Area   7.0   47.0  124.0   47.0   \n",
       "\n",
       "        pm2_5  \n",
       "0         NaN  \n",
       "1         NaN  \n",
       "2         NaN  \n",
       "3         NaN  \n",
       "4         NaN  \n",
       "...       ...  \n",
       "166463    NaN  \n",
       "166464    NaN  \n",
       "166465    NaN  \n",
       "166466    NaN  \n",
       "166467    NaN  \n",
       "\n",
       "[166468 rows x 8 columns]"
      ]
     },
     "execution_count": 20,
     "metadata": {},
     "output_type": "execute_result"
    }
   ],
   "source": [
    "df"
   ]
  },
  {
   "cell_type": "code",
   "execution_count": 21,
   "id": "235c8f60",
   "metadata": {
    "execution": {
     "iopub.execute_input": "2022-03-31T11:20:31.971108Z",
     "iopub.status.busy": "2022-03-31T11:20:31.970385Z",
     "iopub.status.idle": "2022-03-31T11:20:32.098133Z",
     "shell.execute_reply": "2022-03-31T11:20:32.097572Z",
     "shell.execute_reply.started": "2022-03-31T11:12:02.058415Z"
    },
    "papermill": {
     "duration": 0.340423,
     "end_time": "2022-03-31T11:20:32.098274",
     "exception": false,
     "start_time": "2022-03-31T11:20:31.757851",
     "status": "completed"
    },
    "tags": []
   },
   "outputs": [],
   "source": [
    "df['location']=df['location'].fillna(df['location'].mode()[0])\n",
    "df['type']=df['type'].fillna(df['type'].mode()[0])\n",
    "# Null value Imputation for categorical data"
   ]
  },
  {
   "cell_type": "code",
   "execution_count": 22,
   "id": "bd52df94",
   "metadata": {
    "execution": {
     "iopub.execute_input": "2022-03-31T11:20:32.458217Z",
     "iopub.status.busy": "2022-03-31T11:20:32.457314Z",
     "iopub.status.idle": "2022-03-31T11:20:32.467612Z",
     "shell.execute_reply": "2022-03-31T11:20:32.467060Z",
     "shell.execute_reply.started": "2022-03-31T11:12:02.286854Z"
    },
    "papermill": {
     "duration": 0.260494,
     "end_time": "2022-03-31T11:20:32.467763",
     "exception": false,
     "start_time": "2022-03-31T11:20:32.207269",
     "status": "completed"
    },
    "tags": []
   },
   "outputs": [],
   "source": [
    "df.fillna(0, inplace=True)\n",
    "# null values are replaced with zeros for the numerical data"
   ]
  },
  {
   "cell_type": "code",
   "execution_count": 23,
   "id": "b30febf3",
   "metadata": {
    "execution": {
     "iopub.execute_input": "2022-03-31T11:20:32.783951Z",
     "iopub.status.busy": "2022-03-31T11:20:32.738040Z",
     "iopub.status.idle": "2022-03-31T11:20:32.843702Z",
     "shell.execute_reply": "2022-03-31T11:20:32.843163Z",
     "shell.execute_reply.started": "2022-03-31T11:12:02.435334Z"
    },
    "papermill": {
     "duration": 0.266778,
     "end_time": "2022-03-31T11:20:32.843846",
     "exception": false,
     "start_time": "2022-03-31T11:20:32.577068",
     "status": "completed"
    },
    "tags": []
   },
   "outputs": [
    {
     "data": {
      "text/plain": [
       "state       0\n",
       "location    0\n",
       "type        0\n",
       "so2         0\n",
       "no2         0\n",
       "rspm        0\n",
       "spm         0\n",
       "pm2_5       0\n",
       "dtype: int64"
      ]
     },
     "execution_count": 23,
     "metadata": {},
     "output_type": "execute_result"
    }
   ],
   "source": [
    "df.isnull().sum()\n",
    "# Now we have successfully imputed null values which were present in the dataset"
   ]
  },
  {
   "cell_type": "code",
   "execution_count": 24,
   "id": "32a1ea25",
   "metadata": {
    "execution": {
     "iopub.execute_input": "2022-03-31T11:20:33.087341Z",
     "iopub.status.busy": "2022-03-31T11:20:33.080390Z",
     "iopub.status.idle": "2022-03-31T11:20:33.091950Z",
     "shell.execute_reply": "2022-03-31T11:20:33.091276Z",
     "shell.execute_reply.started": "2022-03-31T11:12:02.586742Z"
    },
    "papermill": {
     "duration": 0.138426,
     "end_time": "2022-03-31T11:20:33.092113",
     "exception": false,
     "start_time": "2022-03-31T11:20:32.953687",
     "status": "completed"
    },
    "tags": []
   },
   "outputs": [
    {
     "data": {
      "text/html": [
       "<div>\n",
       "<style scoped>\n",
       "    .dataframe tbody tr th:only-of-type {\n",
       "        vertical-align: middle;\n",
       "    }\n",
       "\n",
       "    .dataframe tbody tr th {\n",
       "        vertical-align: top;\n",
       "    }\n",
       "\n",
       "    .dataframe thead th {\n",
       "        text-align: right;\n",
       "    }\n",
       "</style>\n",
       "<table border=\"1\" class=\"dataframe\">\n",
       "  <thead>\n",
       "    <tr style=\"text-align: right;\">\n",
       "      <th></th>\n",
       "      <th>state</th>\n",
       "      <th>location</th>\n",
       "      <th>type</th>\n",
       "      <th>so2</th>\n",
       "      <th>no2</th>\n",
       "      <th>rspm</th>\n",
       "      <th>spm</th>\n",
       "      <th>pm2_5</th>\n",
       "    </tr>\n",
       "  </thead>\n",
       "  <tbody>\n",
       "    <tr>\n",
       "      <th>0</th>\n",
       "      <td>Andhra Pradesh</td>\n",
       "      <td>Hyderabad</td>\n",
       "      <td>Industrial Area</td>\n",
       "      <td>12.9</td>\n",
       "      <td>55.8</td>\n",
       "      <td>143.7</td>\n",
       "      <td>370.7</td>\n",
       "      <td>0.0</td>\n",
       "    </tr>\n",
       "    <tr>\n",
       "      <th>1</th>\n",
       "      <td>Andhra Pradesh</td>\n",
       "      <td>Hyderabad</td>\n",
       "      <td>Industrial Area</td>\n",
       "      <td>10.4</td>\n",
       "      <td>48.9</td>\n",
       "      <td>124.7</td>\n",
       "      <td>285.7</td>\n",
       "      <td>0.0</td>\n",
       "    </tr>\n",
       "    <tr>\n",
       "      <th>2</th>\n",
       "      <td>Andhra Pradesh</td>\n",
       "      <td>Hyderabad</td>\n",
       "      <td>Industrial Area</td>\n",
       "      <td>7.6</td>\n",
       "      <td>50.1</td>\n",
       "      <td>88.0</td>\n",
       "      <td>221.3</td>\n",
       "      <td>0.0</td>\n",
       "    </tr>\n",
       "    <tr>\n",
       "      <th>3</th>\n",
       "      <td>Andhra Pradesh</td>\n",
       "      <td>Hyderabad</td>\n",
       "      <td>Industrial Area</td>\n",
       "      <td>7.3</td>\n",
       "      <td>48.5</td>\n",
       "      <td>82.7</td>\n",
       "      <td>186.7</td>\n",
       "      <td>0.0</td>\n",
       "    </tr>\n",
       "    <tr>\n",
       "      <th>4</th>\n",
       "      <td>Andhra Pradesh</td>\n",
       "      <td>Hyderabad</td>\n",
       "      <td>Industrial Area</td>\n",
       "      <td>6.8</td>\n",
       "      <td>110.3</td>\n",
       "      <td>122.3</td>\n",
       "      <td>270.7</td>\n",
       "      <td>0.0</td>\n",
       "    </tr>\n",
       "    <tr>\n",
       "      <th>...</th>\n",
       "      <td>...</td>\n",
       "      <td>...</td>\n",
       "      <td>...</td>\n",
       "      <td>...</td>\n",
       "      <td>...</td>\n",
       "      <td>...</td>\n",
       "      <td>...</td>\n",
       "      <td>...</td>\n",
       "    </tr>\n",
       "    <tr>\n",
       "      <th>166463</th>\n",
       "      <td>West Bengal</td>\n",
       "      <td>Kolkata</td>\n",
       "      <td>Industrial Area</td>\n",
       "      <td>8.0</td>\n",
       "      <td>54.0</td>\n",
       "      <td>106.0</td>\n",
       "      <td>50.0</td>\n",
       "      <td>0.0</td>\n",
       "    </tr>\n",
       "    <tr>\n",
       "      <th>166464</th>\n",
       "      <td>West Bengal</td>\n",
       "      <td>Kolkata</td>\n",
       "      <td>Industrial Area</td>\n",
       "      <td>9.0</td>\n",
       "      <td>49.0</td>\n",
       "      <td>123.0</td>\n",
       "      <td>54.0</td>\n",
       "      <td>0.0</td>\n",
       "    </tr>\n",
       "    <tr>\n",
       "      <th>166465</th>\n",
       "      <td>West Bengal</td>\n",
       "      <td>Kolkata</td>\n",
       "      <td>Industrial Area</td>\n",
       "      <td>7.0</td>\n",
       "      <td>47.0</td>\n",
       "      <td>107.0</td>\n",
       "      <td>50.0</td>\n",
       "      <td>0.0</td>\n",
       "    </tr>\n",
       "    <tr>\n",
       "      <th>166466</th>\n",
       "      <td>West Bengal</td>\n",
       "      <td>Kolkata</td>\n",
       "      <td>Industrial Area</td>\n",
       "      <td>7.0</td>\n",
       "      <td>50.0</td>\n",
       "      <td>130.0</td>\n",
       "      <td>53.0</td>\n",
       "      <td>0.0</td>\n",
       "    </tr>\n",
       "    <tr>\n",
       "      <th>166467</th>\n",
       "      <td>West Bengal</td>\n",
       "      <td>Kolkata</td>\n",
       "      <td>Industrial Area</td>\n",
       "      <td>7.0</td>\n",
       "      <td>47.0</td>\n",
       "      <td>124.0</td>\n",
       "      <td>47.0</td>\n",
       "      <td>0.0</td>\n",
       "    </tr>\n",
       "  </tbody>\n",
       "</table>\n",
       "<p>166468 rows × 8 columns</p>\n",
       "</div>"
      ],
      "text/plain": [
       "                 state   location             type   so2    no2   rspm    spm  \\\n",
       "0       Andhra Pradesh  Hyderabad  Industrial Area  12.9   55.8  143.7  370.7   \n",
       "1       Andhra Pradesh  Hyderabad  Industrial Area  10.4   48.9  124.7  285.7   \n",
       "2       Andhra Pradesh  Hyderabad  Industrial Area   7.6   50.1   88.0  221.3   \n",
       "3       Andhra Pradesh  Hyderabad  Industrial Area   7.3   48.5   82.7  186.7   \n",
       "4       Andhra Pradesh  Hyderabad  Industrial Area   6.8  110.3  122.3  270.7   \n",
       "...                ...        ...              ...   ...    ...    ...    ...   \n",
       "166463     West Bengal    Kolkata  Industrial Area   8.0   54.0  106.0   50.0   \n",
       "166464     West Bengal    Kolkata  Industrial Area   9.0   49.0  123.0   54.0   \n",
       "166465     West Bengal    Kolkata  Industrial Area   7.0   47.0  107.0   50.0   \n",
       "166466     West Bengal    Kolkata  Industrial Area   7.0   50.0  130.0   53.0   \n",
       "166467     West Bengal    Kolkata  Industrial Area   7.0   47.0  124.0   47.0   \n",
       "\n",
       "        pm2_5  \n",
       "0         0.0  \n",
       "1         0.0  \n",
       "2         0.0  \n",
       "3         0.0  \n",
       "4         0.0  \n",
       "...       ...  \n",
       "166463    0.0  \n",
       "166464    0.0  \n",
       "166465    0.0  \n",
       "166466    0.0  \n",
       "166467    0.0  \n",
       "\n",
       "[166468 rows x 8 columns]"
      ]
     },
     "execution_count": 24,
     "metadata": {},
     "output_type": "execute_result"
    }
   ],
   "source": [
    "df\n",
    "# The following features are important for our machine learning models."
   ]
  },
  {
   "cell_type": "markdown",
   "id": "e2fb2a6e",
   "metadata": {
    "papermill": {
     "duration": 0.109804,
     "end_time": "2022-03-31T11:20:33.314807",
     "exception": false,
     "start_time": "2022-03-31T11:20:33.205003",
     "status": "completed"
    },
    "tags": []
   },
   "source": [
    "# CALCULATE AIR QUALITY INDEX FOR SO2 BASED ON FORMULA\n",
    "The air quality index is a piecewise linear function of the pollutant concentration. At the boundary between AQI categories, there is a discontinuous jump of one AQI unit. To convert from concentration to AQI this equation is used"
   ]
  },
  {
   "cell_type": "markdown",
   "id": "935f8fd7",
   "metadata": {
    "papermill": {
     "duration": 0.112757,
     "end_time": "2022-03-31T11:20:33.537703",
     "exception": false,
     "start_time": "2022-03-31T11:20:33.424946",
     "status": "completed"
    },
    "tags": []
   },
   "source": [
    "### Function to calculate so2 individual pollutant index(si)"
   ]
  },
  {
   "cell_type": "code",
   "execution_count": 25,
   "id": "5c1820a4",
   "metadata": {
    "execution": {
     "iopub.execute_input": "2022-03-31T11:20:33.771043Z",
     "iopub.status.busy": "2022-03-31T11:20:33.770315Z",
     "iopub.status.idle": "2022-03-31T11:20:34.071441Z",
     "shell.execute_reply": "2022-03-31T11:20:34.070859Z",
     "shell.execute_reply.started": "2022-03-31T11:12:02.609769Z"
    },
    "papermill": {
     "duration": 0.42081,
     "end_time": "2022-03-31T11:20:34.071614",
     "exception": false,
     "start_time": "2022-03-31T11:20:33.650804",
     "status": "completed"
    },
    "tags": []
   },
   "outputs": [
    {
     "data": {
      "text/html": [
       "<div>\n",
       "<style scoped>\n",
       "    .dataframe tbody tr th:only-of-type {\n",
       "        vertical-align: middle;\n",
       "    }\n",
       "\n",
       "    .dataframe tbody tr th {\n",
       "        vertical-align: top;\n",
       "    }\n",
       "\n",
       "    .dataframe thead th {\n",
       "        text-align: right;\n",
       "    }\n",
       "</style>\n",
       "<table border=\"1\" class=\"dataframe\">\n",
       "  <thead>\n",
       "    <tr style=\"text-align: right;\">\n",
       "      <th></th>\n",
       "      <th>so2</th>\n",
       "      <th>SOi</th>\n",
       "    </tr>\n",
       "  </thead>\n",
       "  <tbody>\n",
       "    <tr>\n",
       "      <th>0</th>\n",
       "      <td>12.9</td>\n",
       "      <td>16.125</td>\n",
       "    </tr>\n",
       "    <tr>\n",
       "      <th>1</th>\n",
       "      <td>10.4</td>\n",
       "      <td>13.000</td>\n",
       "    </tr>\n",
       "    <tr>\n",
       "      <th>2</th>\n",
       "      <td>7.6</td>\n",
       "      <td>9.500</td>\n",
       "    </tr>\n",
       "    <tr>\n",
       "      <th>3</th>\n",
       "      <td>7.3</td>\n",
       "      <td>9.125</td>\n",
       "    </tr>\n",
       "    <tr>\n",
       "      <th>4</th>\n",
       "      <td>6.8</td>\n",
       "      <td>8.500</td>\n",
       "    </tr>\n",
       "  </tbody>\n",
       "</table>\n",
       "</div>"
      ],
      "text/plain": [
       "    so2     SOi\n",
       "0  12.9  16.125\n",
       "1  10.4  13.000\n",
       "2   7.6   9.500\n",
       "3   7.3   9.125\n",
       "4   6.8   8.500"
      ]
     },
     "execution_count": 25,
     "metadata": {},
     "output_type": "execute_result"
    }
   ],
   "source": [
    "def cal_SOi(so2):\n",
    "    si=0\n",
    "    if (so2<=40):\n",
    "     si= so2*(50/40)\n",
    "    elif (so2>40 and so2<=80):\n",
    "     si= 50+(so2-40)*(50/40)\n",
    "    elif (so2>80 and so2<=380):\n",
    "     si= 100+(so2-80)*(100/300)\n",
    "    elif (so2>380 and so2<=800):\n",
    "     si= 200+(so2-380)*(100/420)\n",
    "    elif (so2>800 and so2<=1600):\n",
    "     si= 300+(so2-800)*(100/800)\n",
    "    elif (so2>1600):\n",
    "     si= 400+(so2-1600)*(100/800)\n",
    "    return si\n",
    "df['SOi']=df['so2'].apply(cal_SOi)\n",
    "data= df[['so2','SOi']]\n",
    "data.head()\n",
    "# calculating the individual pollutant index for so2(sulphur dioxide)"
   ]
  },
  {
   "cell_type": "markdown",
   "id": "d51cc577",
   "metadata": {
    "papermill": {
     "duration": 0.110458,
     "end_time": "2022-03-31T11:20:34.292719",
     "exception": false,
     "start_time": "2022-03-31T11:20:34.182261",
     "status": "completed"
    },
    "tags": []
   },
   "source": [
    "### Function to calculate no2 individual pollutant index(ni)"
   ]
  },
  {
   "cell_type": "code",
   "execution_count": 26,
   "id": "ed766e43",
   "metadata": {
    "execution": {
     "iopub.execute_input": "2022-03-31T11:20:34.543821Z",
     "iopub.status.busy": "2022-03-31T11:20:34.543107Z",
     "iopub.status.idle": "2022-03-31T11:20:34.845908Z",
     "shell.execute_reply": "2022-03-31T11:20:34.845262Z",
     "shell.execute_reply.started": "2022-03-31T11:12:02.907496Z"
    },
    "papermill": {
     "duration": 0.442961,
     "end_time": "2022-03-31T11:20:34.846068",
     "exception": false,
     "start_time": "2022-03-31T11:20:34.403107",
     "status": "completed"
    },
    "tags": []
   },
   "outputs": [
    {
     "data": {
      "text/html": [
       "<div>\n",
       "<style scoped>\n",
       "    .dataframe tbody tr th:only-of-type {\n",
       "        vertical-align: middle;\n",
       "    }\n",
       "\n",
       "    .dataframe tbody tr th {\n",
       "        vertical-align: top;\n",
       "    }\n",
       "\n",
       "    .dataframe thead th {\n",
       "        text-align: right;\n",
       "    }\n",
       "</style>\n",
       "<table border=\"1\" class=\"dataframe\">\n",
       "  <thead>\n",
       "    <tr style=\"text-align: right;\">\n",
       "      <th></th>\n",
       "      <th>no2</th>\n",
       "      <th>Noi</th>\n",
       "    </tr>\n",
       "  </thead>\n",
       "  <tbody>\n",
       "    <tr>\n",
       "      <th>0</th>\n",
       "      <td>55.8</td>\n",
       "      <td>69.750</td>\n",
       "    </tr>\n",
       "    <tr>\n",
       "      <th>1</th>\n",
       "      <td>48.9</td>\n",
       "      <td>61.125</td>\n",
       "    </tr>\n",
       "    <tr>\n",
       "      <th>2</th>\n",
       "      <td>50.1</td>\n",
       "      <td>62.625</td>\n",
       "    </tr>\n",
       "    <tr>\n",
       "      <th>3</th>\n",
       "      <td>48.5</td>\n",
       "      <td>60.625</td>\n",
       "    </tr>\n",
       "    <tr>\n",
       "      <th>4</th>\n",
       "      <td>110.3</td>\n",
       "      <td>130.300</td>\n",
       "    </tr>\n",
       "  </tbody>\n",
       "</table>\n",
       "</div>"
      ],
      "text/plain": [
       "     no2      Noi\n",
       "0   55.8   69.750\n",
       "1   48.9   61.125\n",
       "2   50.1   62.625\n",
       "3   48.5   60.625\n",
       "4  110.3  130.300"
      ]
     },
     "execution_count": 26,
     "metadata": {},
     "output_type": "execute_result"
    }
   ],
   "source": [
    "def cal_Noi(no2):\n",
    "    ni=0\n",
    "    if(no2<=40):\n",
    "     ni= no2*50/40\n",
    "    elif(no2>40 and no2<=80):\n",
    "     ni= 50+(no2-40)*(50/40)\n",
    "    elif(no2>80 and no2<=180):\n",
    "     ni= 100+(no2-80)*(100/100)\n",
    "    elif(no2>180 and no2<=280):\n",
    "     ni= 200+(no2-180)*(100/100)\n",
    "    elif(no2>280 and no2<=400):\n",
    "     ni= 300+(no2-280)*(100/120)\n",
    "    else:\n",
    "     ni= 400+(no2-400)*(100/120)\n",
    "    return ni\n",
    "df['Noi']=df['no2'].apply(cal_Noi)\n",
    "data= df[['no2','Noi']]\n",
    "data.head()\n",
    "# calculating the individual pollutant index for no2(nitrogen dioxide)"
   ]
  },
  {
   "cell_type": "markdown",
   "id": "c48cf394",
   "metadata": {
    "papermill": {
     "duration": 0.120114,
     "end_time": "2022-03-31T11:20:35.090820",
     "exception": false,
     "start_time": "2022-03-31T11:20:34.970706",
     "status": "completed"
    },
    "tags": []
   },
   "source": [
    "### Function to calculate rspm individual pollutant index(rpi)"
   ]
  },
  {
   "cell_type": "code",
   "execution_count": 27,
   "id": "d2185971",
   "metadata": {
    "execution": {
     "iopub.execute_input": "2022-03-31T11:20:35.337271Z",
     "iopub.status.busy": "2022-03-31T11:20:35.335986Z",
     "iopub.status.idle": "2022-03-31T11:20:35.619542Z",
     "shell.execute_reply": "2022-03-31T11:20:35.618998Z",
     "shell.execute_reply.started": "2022-03-31T11:12:03.220174Z"
    },
    "papermill": {
     "duration": 0.410901,
     "end_time": "2022-03-31T11:20:35.619690",
     "exception": false,
     "start_time": "2022-03-31T11:20:35.208789",
     "status": "completed"
    },
    "tags": []
   },
   "outputs": [
    {
     "data": {
      "text/html": [
       "<div>\n",
       "<style scoped>\n",
       "    .dataframe tbody tr th:only-of-type {\n",
       "        vertical-align: middle;\n",
       "    }\n",
       "\n",
       "    .dataframe tbody tr th {\n",
       "        vertical-align: top;\n",
       "    }\n",
       "\n",
       "    .dataframe thead th {\n",
       "        text-align: right;\n",
       "    }\n",
       "</style>\n",
       "<table border=\"1\" class=\"dataframe\">\n",
       "  <thead>\n",
       "    <tr style=\"text-align: right;\">\n",
       "      <th></th>\n",
       "      <th>rspm</th>\n",
       "      <th>Rpi</th>\n",
       "    </tr>\n",
       "  </thead>\n",
       "  <tbody>\n",
       "    <tr>\n",
       "      <th>0</th>\n",
       "      <td>143.7</td>\n",
       "      <td>0.0</td>\n",
       "    </tr>\n",
       "    <tr>\n",
       "      <th>1</th>\n",
       "      <td>124.7</td>\n",
       "      <td>0.0</td>\n",
       "    </tr>\n",
       "    <tr>\n",
       "      <th>2</th>\n",
       "      <td>88.0</td>\n",
       "      <td>0.0</td>\n",
       "    </tr>\n",
       "    <tr>\n",
       "      <th>3</th>\n",
       "      <td>82.7</td>\n",
       "      <td>0.0</td>\n",
       "    </tr>\n",
       "    <tr>\n",
       "      <th>4</th>\n",
       "      <td>122.3</td>\n",
       "      <td>0.0</td>\n",
       "    </tr>\n",
       "  </tbody>\n",
       "</table>\n",
       "</div>"
      ],
      "text/plain": [
       "    rspm  Rpi\n",
       "0  143.7  0.0\n",
       "1  124.7  0.0\n",
       "2   88.0  0.0\n",
       "3   82.7  0.0\n",
       "4  122.3  0.0"
      ]
     },
     "execution_count": 27,
     "metadata": {},
     "output_type": "execute_result"
    }
   ],
   "source": [
    "def cal_RSPMI(rspm):\n",
    "    rpi=0\n",
    "    if(rpi<=30):\n",
    "     rpi=rpi*50/30\n",
    "    elif(rpi>30 and rpi<=60):\n",
    "     rpi=50+(rpi-30)*50/30\n",
    "    elif(rpi>60 and rpi<=90):\n",
    "     rpi=100+(rpi-60)*100/30\n",
    "    elif(rpi>90 and rpi<=120):\n",
    "     rpi=200+(rpi-90)*100/30\n",
    "    elif(rpi>120 and rpi<=250):\n",
    "     rpi=300+(rpi-120)*(100/130)\n",
    "    else:\n",
    "     rpi=400+(rpi-250)*(100/130)\n",
    "    return rpi\n",
    "df['Rpi']=df['rspm'].apply(cal_RSPMI)\n",
    "data= df[['rspm','Rpi']]\n",
    "data.head()\n",
    "# calculating the individual pollutant index for rspm(respirable suspended particualte matter concentration)"
   ]
  },
  {
   "cell_type": "markdown",
   "id": "81156bb5",
   "metadata": {
    "papermill": {
     "duration": 0.11753,
     "end_time": "2022-03-31T11:20:35.854003",
     "exception": false,
     "start_time": "2022-03-31T11:20:35.736473",
     "status": "completed"
    },
    "tags": []
   },
   "source": [
    "### Function to calculate spm individual pollutant index(spi)"
   ]
  },
  {
   "cell_type": "code",
   "execution_count": 28,
   "id": "c452ad6a",
   "metadata": {
    "execution": {
     "iopub.execute_input": "2022-03-31T11:20:36.092021Z",
     "iopub.status.busy": "2022-03-31T11:20:36.091290Z",
     "iopub.status.idle": "2022-03-31T11:20:36.455847Z",
     "shell.execute_reply": "2022-03-31T11:20:36.455175Z",
     "shell.execute_reply.started": "2022-03-31T11:12:03.498616Z"
    },
    "papermill": {
     "duration": 0.483833,
     "end_time": "2022-03-31T11:20:36.455987",
     "exception": false,
     "start_time": "2022-03-31T11:20:35.972154",
     "status": "completed"
    },
    "tags": []
   },
   "outputs": [
    {
     "data": {
      "text/html": [
       "<div>\n",
       "<style scoped>\n",
       "    .dataframe tbody tr th:only-of-type {\n",
       "        vertical-align: middle;\n",
       "    }\n",
       "\n",
       "    .dataframe tbody tr th {\n",
       "        vertical-align: top;\n",
       "    }\n",
       "\n",
       "    .dataframe thead th {\n",
       "        text-align: right;\n",
       "    }\n",
       "</style>\n",
       "<table border=\"1\" class=\"dataframe\">\n",
       "  <thead>\n",
       "    <tr style=\"text-align: right;\">\n",
       "      <th></th>\n",
       "      <th>spm</th>\n",
       "      <th>SPMi</th>\n",
       "    </tr>\n",
       "  </thead>\n",
       "  <tbody>\n",
       "    <tr>\n",
       "      <th>0</th>\n",
       "      <td>370.7</td>\n",
       "      <td>325.875000</td>\n",
       "    </tr>\n",
       "    <tr>\n",
       "      <th>1</th>\n",
       "      <td>285.7</td>\n",
       "      <td>235.700000</td>\n",
       "    </tr>\n",
       "    <tr>\n",
       "      <th>2</th>\n",
       "      <td>221.3</td>\n",
       "      <td>180.866667</td>\n",
       "    </tr>\n",
       "    <tr>\n",
       "      <th>3</th>\n",
       "      <td>186.7</td>\n",
       "      <td>157.800000</td>\n",
       "    </tr>\n",
       "    <tr>\n",
       "      <th>4</th>\n",
       "      <td>270.7</td>\n",
       "      <td>220.700000</td>\n",
       "    </tr>\n",
       "  </tbody>\n",
       "</table>\n",
       "</div>"
      ],
      "text/plain": [
       "     spm        SPMi\n",
       "0  370.7  325.875000\n",
       "1  285.7  235.700000\n",
       "2  221.3  180.866667\n",
       "3  186.7  157.800000\n",
       "4  270.7  220.700000"
      ]
     },
     "execution_count": 28,
     "metadata": {},
     "output_type": "execute_result"
    }
   ],
   "source": [
    "def cal_SPMi(spm):\n",
    "    spi=0\n",
    "    if(spm<=50):\n",
    "     spi=spm*50/50\n",
    "    elif(spm>50 and spm<=100):\n",
    "     spi=50+(spm-50)*(50/50)\n",
    "    elif(spm>100 and spm<=250):\n",
    "     spi= 100+(spm-100)*(100/150)\n",
    "    elif(spm>250 and spm<=350):\n",
    "     spi=200+(spm-250)*(100/100)\n",
    "    elif(spm>350 and spm<=430):\n",
    "     spi=300+(spm-350)*(100/80)\n",
    "    else:\n",
    "     spi=400+(spm-430)*(100/430)\n",
    "    return spi\n",
    "   \n",
    "df['SPMi']=df['spm'].apply(cal_SPMi)\n",
    "data= df[['spm','SPMi']]\n",
    "data.head()\n",
    "# calculating the individual pollutant index for spm(suspended particulate matter)"
   ]
  },
  {
   "cell_type": "markdown",
   "id": "a6612b49",
   "metadata": {
    "papermill": {
     "duration": 0.112734,
     "end_time": "2022-03-31T11:20:36.683491",
     "exception": false,
     "start_time": "2022-03-31T11:20:36.570757",
     "status": "completed"
    },
    "tags": []
   },
   "source": [
    "### function to calculate the air quality index (AQI) of every data value"
   ]
  },
  {
   "cell_type": "code",
   "execution_count": 29,
   "id": "b4a5ef1d",
   "metadata": {
    "execution": {
     "iopub.execute_input": "2022-03-31T11:20:36.912694Z",
     "iopub.status.busy": "2022-03-31T11:20:36.912034Z",
     "iopub.status.idle": "2022-03-31T11:20:49.625435Z",
     "shell.execute_reply": "2022-03-31T11:20:49.625889Z",
     "shell.execute_reply.started": "2022-03-31T11:12:03.871875Z"
    },
    "papermill": {
     "duration": 12.829979,
     "end_time": "2022-03-31T11:20:49.626070",
     "exception": false,
     "start_time": "2022-03-31T11:20:36.796091",
     "status": "completed"
    },
    "tags": []
   },
   "outputs": [
    {
     "data": {
      "text/html": [
       "<div>\n",
       "<style scoped>\n",
       "    .dataframe tbody tr th:only-of-type {\n",
       "        vertical-align: middle;\n",
       "    }\n",
       "\n",
       "    .dataframe tbody tr th {\n",
       "        vertical-align: top;\n",
       "    }\n",
       "\n",
       "    .dataframe thead th {\n",
       "        text-align: right;\n",
       "    }\n",
       "</style>\n",
       "<table border=\"1\" class=\"dataframe\">\n",
       "  <thead>\n",
       "    <tr style=\"text-align: right;\">\n",
       "      <th></th>\n",
       "      <th>state</th>\n",
       "      <th>SOi</th>\n",
       "      <th>Noi</th>\n",
       "      <th>Rpi</th>\n",
       "      <th>SPMi</th>\n",
       "      <th>AQI</th>\n",
       "    </tr>\n",
       "  </thead>\n",
       "  <tbody>\n",
       "    <tr>\n",
       "      <th>0</th>\n",
       "      <td>Andhra Pradesh</td>\n",
       "      <td>16.125</td>\n",
       "      <td>69.750</td>\n",
       "      <td>0.0</td>\n",
       "      <td>325.875000</td>\n",
       "      <td>325.875000</td>\n",
       "    </tr>\n",
       "    <tr>\n",
       "      <th>1</th>\n",
       "      <td>Andhra Pradesh</td>\n",
       "      <td>13.000</td>\n",
       "      <td>61.125</td>\n",
       "      <td>0.0</td>\n",
       "      <td>235.700000</td>\n",
       "      <td>235.700000</td>\n",
       "    </tr>\n",
       "    <tr>\n",
       "      <th>2</th>\n",
       "      <td>Andhra Pradesh</td>\n",
       "      <td>9.500</td>\n",
       "      <td>62.625</td>\n",
       "      <td>0.0</td>\n",
       "      <td>180.866667</td>\n",
       "      <td>180.866667</td>\n",
       "    </tr>\n",
       "    <tr>\n",
       "      <th>3</th>\n",
       "      <td>Andhra Pradesh</td>\n",
       "      <td>9.125</td>\n",
       "      <td>60.625</td>\n",
       "      <td>0.0</td>\n",
       "      <td>157.800000</td>\n",
       "      <td>157.800000</td>\n",
       "    </tr>\n",
       "    <tr>\n",
       "      <th>4</th>\n",
       "      <td>Andhra Pradesh</td>\n",
       "      <td>8.500</td>\n",
       "      <td>130.300</td>\n",
       "      <td>0.0</td>\n",
       "      <td>220.700000</td>\n",
       "      <td>220.700000</td>\n",
       "    </tr>\n",
       "  </tbody>\n",
       "</table>\n",
       "</div>"
      ],
      "text/plain": [
       "            state     SOi      Noi  Rpi        SPMi         AQI\n",
       "0  Andhra Pradesh  16.125   69.750  0.0  325.875000  325.875000\n",
       "1  Andhra Pradesh  13.000   61.125  0.0  235.700000  235.700000\n",
       "2  Andhra Pradesh   9.500   62.625  0.0  180.866667  180.866667\n",
       "3  Andhra Pradesh   9.125   60.625  0.0  157.800000  157.800000\n",
       "4  Andhra Pradesh   8.500  130.300  0.0  220.700000  220.700000"
      ]
     },
     "execution_count": 29,
     "metadata": {},
     "output_type": "execute_result"
    }
   ],
   "source": [
    "def cal_aqi(si,ni,rspmi,spmi):\n",
    "    aqi=0\n",
    "    if(si>ni and si>rspmi and si>spmi):\n",
    "     aqi=si\n",
    "    if(ni>si and ni>rspmi and ni>spmi):\n",
    "     aqi=ni\n",
    "    if(rspmi>si and rspmi>ni and rspmi>spmi):\n",
    "     aqi=rspmi\n",
    "    if(spmi>si and spmi>ni and spmi>rspmi):\n",
    "     aqi=spmi\n",
    "    return aqi\n",
    "\n",
    "df['AQI']=df.apply(lambda x:cal_aqi(x['SOi'],x['Noi'],x['Rpi'],x['SPMi']),axis=1)\n",
    "data= df[['state','SOi','Noi','Rpi','SPMi','AQI']]\n",
    "data.head()\n",
    "# Caluclating the Air Quality Index."
   ]
  },
  {
   "cell_type": "code",
   "execution_count": 30,
   "id": "12381865",
   "metadata": {
    "execution": {
     "iopub.execute_input": "2022-03-31T11:20:49.861885Z",
     "iopub.status.busy": "2022-03-31T11:20:49.861147Z",
     "iopub.status.idle": "2022-03-31T11:20:50.087579Z",
     "shell.execute_reply": "2022-03-31T11:20:50.088097Z",
     "shell.execute_reply.started": "2022-03-31T11:12:16.325157Z"
    },
    "papermill": {
     "duration": 0.349057,
     "end_time": "2022-03-31T11:20:50.088265",
     "exception": false,
     "start_time": "2022-03-31T11:20:49.739208",
     "status": "completed"
    },
    "tags": []
   },
   "outputs": [
    {
     "data": {
      "text/html": [
       "<div>\n",
       "<style scoped>\n",
       "    .dataframe tbody tr th:only-of-type {\n",
       "        vertical-align: middle;\n",
       "    }\n",
       "\n",
       "    .dataframe tbody tr th {\n",
       "        vertical-align: top;\n",
       "    }\n",
       "\n",
       "    .dataframe thead th {\n",
       "        text-align: right;\n",
       "    }\n",
       "</style>\n",
       "<table border=\"1\" class=\"dataframe\">\n",
       "  <thead>\n",
       "    <tr style=\"text-align: right;\">\n",
       "      <th></th>\n",
       "      <th>state</th>\n",
       "      <th>location</th>\n",
       "      <th>type</th>\n",
       "      <th>so2</th>\n",
       "      <th>no2</th>\n",
       "      <th>rspm</th>\n",
       "      <th>spm</th>\n",
       "      <th>pm2_5</th>\n",
       "      <th>SOi</th>\n",
       "      <th>Noi</th>\n",
       "      <th>Rpi</th>\n",
       "      <th>SPMi</th>\n",
       "      <th>AQI</th>\n",
       "      <th>AQI_Range</th>\n",
       "    </tr>\n",
       "  </thead>\n",
       "  <tbody>\n",
       "    <tr>\n",
       "      <th>0</th>\n",
       "      <td>Andhra Pradesh</td>\n",
       "      <td>Hyderabad</td>\n",
       "      <td>Industrial Area</td>\n",
       "      <td>12.9</td>\n",
       "      <td>55.8</td>\n",
       "      <td>143.7</td>\n",
       "      <td>370.7</td>\n",
       "      <td>0.0</td>\n",
       "      <td>16.125</td>\n",
       "      <td>69.750</td>\n",
       "      <td>0.0</td>\n",
       "      <td>325.875000</td>\n",
       "      <td>325.875000</td>\n",
       "      <td>Very unhealthy</td>\n",
       "    </tr>\n",
       "    <tr>\n",
       "      <th>1</th>\n",
       "      <td>Andhra Pradesh</td>\n",
       "      <td>Hyderabad</td>\n",
       "      <td>Industrial Area</td>\n",
       "      <td>10.4</td>\n",
       "      <td>48.9</td>\n",
       "      <td>124.7</td>\n",
       "      <td>285.7</td>\n",
       "      <td>0.0</td>\n",
       "      <td>13.000</td>\n",
       "      <td>61.125</td>\n",
       "      <td>0.0</td>\n",
       "      <td>235.700000</td>\n",
       "      <td>235.700000</td>\n",
       "      <td>Unhealthy</td>\n",
       "    </tr>\n",
       "    <tr>\n",
       "      <th>2</th>\n",
       "      <td>Andhra Pradesh</td>\n",
       "      <td>Hyderabad</td>\n",
       "      <td>Industrial Area</td>\n",
       "      <td>7.6</td>\n",
       "      <td>50.1</td>\n",
       "      <td>88.0</td>\n",
       "      <td>221.3</td>\n",
       "      <td>0.0</td>\n",
       "      <td>9.500</td>\n",
       "      <td>62.625</td>\n",
       "      <td>0.0</td>\n",
       "      <td>180.866667</td>\n",
       "      <td>180.866667</td>\n",
       "      <td>Poor</td>\n",
       "    </tr>\n",
       "    <tr>\n",
       "      <th>3</th>\n",
       "      <td>Andhra Pradesh</td>\n",
       "      <td>Hyderabad</td>\n",
       "      <td>Industrial Area</td>\n",
       "      <td>7.3</td>\n",
       "      <td>48.5</td>\n",
       "      <td>82.7</td>\n",
       "      <td>186.7</td>\n",
       "      <td>0.0</td>\n",
       "      <td>9.125</td>\n",
       "      <td>60.625</td>\n",
       "      <td>0.0</td>\n",
       "      <td>157.800000</td>\n",
       "      <td>157.800000</td>\n",
       "      <td>Poor</td>\n",
       "    </tr>\n",
       "    <tr>\n",
       "      <th>4</th>\n",
       "      <td>Andhra Pradesh</td>\n",
       "      <td>Hyderabad</td>\n",
       "      <td>Industrial Area</td>\n",
       "      <td>6.8</td>\n",
       "      <td>110.3</td>\n",
       "      <td>122.3</td>\n",
       "      <td>270.7</td>\n",
       "      <td>0.0</td>\n",
       "      <td>8.500</td>\n",
       "      <td>130.300</td>\n",
       "      <td>0.0</td>\n",
       "      <td>220.700000</td>\n",
       "      <td>220.700000</td>\n",
       "      <td>Unhealthy</td>\n",
       "    </tr>\n",
       "  </tbody>\n",
       "</table>\n",
       "</div>"
      ],
      "text/plain": [
       "            state   location             type   so2    no2   rspm    spm  \\\n",
       "0  Andhra Pradesh  Hyderabad  Industrial Area  12.9   55.8  143.7  370.7   \n",
       "1  Andhra Pradesh  Hyderabad  Industrial Area  10.4   48.9  124.7  285.7   \n",
       "2  Andhra Pradesh  Hyderabad  Industrial Area   7.6   50.1   88.0  221.3   \n",
       "3  Andhra Pradesh  Hyderabad  Industrial Area   7.3   48.5   82.7  186.7   \n",
       "4  Andhra Pradesh  Hyderabad  Industrial Area   6.8  110.3  122.3  270.7   \n",
       "\n",
       "   pm2_5     SOi      Noi  Rpi        SPMi         AQI       AQI_Range  \n",
       "0    0.0  16.125   69.750  0.0  325.875000  325.875000  Very unhealthy  \n",
       "1    0.0  13.000   61.125  0.0  235.700000  235.700000       Unhealthy  \n",
       "2    0.0   9.500   62.625  0.0  180.866667  180.866667            Poor  \n",
       "3    0.0   9.125   60.625  0.0  157.800000  157.800000            Poor  \n",
       "4    0.0   8.500  130.300  0.0  220.700000  220.700000       Unhealthy  "
      ]
     },
     "execution_count": 30,
     "metadata": {},
     "output_type": "execute_result"
    }
   ],
   "source": [
    "def AQI_Range(x):\n",
    "    if x<=50:\n",
    "        return \"Good\"\n",
    "    elif x>50 and x<=100:\n",
    "        return \"Moderate\"\n",
    "    elif x>100 and x<=200:\n",
    "        return \"Poor\"\n",
    "    elif x>200 and x<=300:\n",
    "        return \"Unhealthy\"\n",
    "    elif x>300 and x<=400:\n",
    "        return \"Very unhealthy\"\n",
    "    elif x>400:\n",
    "        return \"Hazardous\"\n",
    "\n",
    "df['AQI_Range'] = df['AQI'] .apply(AQI_Range)\n",
    "df.head()\n",
    "# Using threshold values to classify a particular values as good, moderate, poor, unhealthy, very unhealthy and Hazardous"
   ]
  },
  {
   "cell_type": "code",
   "execution_count": 31,
   "id": "7bf77384",
   "metadata": {
    "execution": {
     "iopub.execute_input": "2022-03-31T11:20:50.328675Z",
     "iopub.status.busy": "2022-03-31T11:20:50.328009Z",
     "iopub.status.idle": "2022-03-31T11:20:50.385014Z",
     "shell.execute_reply": "2022-03-31T11:20:50.384524Z",
     "shell.execute_reply.started": "2022-03-31T11:12:16.556642Z"
    },
    "papermill": {
     "duration": 0.172357,
     "end_time": "2022-03-31T11:20:50.385152",
     "exception": false,
     "start_time": "2022-03-31T11:20:50.212795",
     "status": "completed"
    },
    "tags": []
   },
   "outputs": [
    {
     "data": {
      "text/plain": [
       "Poor              75838\n",
       "Moderate          26560\n",
       "Unhealthy         26505\n",
       "Hazardous         15117\n",
       "Very unhealthy    12852\n",
       "Good               9596\n",
       "Name: AQI_Range, dtype: int64"
      ]
     },
     "execution_count": 31,
     "metadata": {},
     "output_type": "execute_result"
    }
   ],
   "source": [
    "df['AQI_Range'].value_counts()\n",
    "# These are the counts of values present in the AQI_Range column."
   ]
  },
  {
   "cell_type": "markdown",
   "id": "06ff0c1b",
   "metadata": {
    "papermill": {
     "duration": 0.113274,
     "end_time": "2022-03-31T11:20:50.611681",
     "exception": false,
     "start_time": "2022-03-31T11:20:50.498407",
     "status": "completed"
    },
    "tags": []
   },
   "source": [
    "### Splitting the dataset into Dependent and Independent columns"
   ]
  },
  {
   "cell_type": "code",
   "execution_count": 32,
   "id": "82038c01",
   "metadata": {
    "execution": {
     "iopub.execute_input": "2022-03-31T11:20:50.845336Z",
     "iopub.status.busy": "2022-03-31T11:20:50.844679Z",
     "iopub.status.idle": "2022-03-31T11:20:50.876231Z",
     "shell.execute_reply": "2022-03-31T11:20:50.875726Z",
     "shell.execute_reply.started": "2022-03-31T11:12:16.617180Z"
    },
    "papermill": {
     "duration": 0.150442,
     "end_time": "2022-03-31T11:20:50.876369",
     "exception": false,
     "start_time": "2022-03-31T11:20:50.725927",
     "status": "completed"
    },
    "tags": []
   },
   "outputs": [
    {
     "data": {
      "text/html": [
       "<div>\n",
       "<style scoped>\n",
       "    .dataframe tbody tr th:only-of-type {\n",
       "        vertical-align: middle;\n",
       "    }\n",
       "\n",
       "    .dataframe tbody tr th {\n",
       "        vertical-align: top;\n",
       "    }\n",
       "\n",
       "    .dataframe thead th {\n",
       "        text-align: right;\n",
       "    }\n",
       "</style>\n",
       "<table border=\"1\" class=\"dataframe\">\n",
       "  <thead>\n",
       "    <tr style=\"text-align: right;\">\n",
       "      <th></th>\n",
       "      <th>SOi</th>\n",
       "      <th>Noi</th>\n",
       "      <th>Rpi</th>\n",
       "      <th>SPMi</th>\n",
       "    </tr>\n",
       "  </thead>\n",
       "  <tbody>\n",
       "    <tr>\n",
       "      <th>0</th>\n",
       "      <td>16.125</td>\n",
       "      <td>69.750</td>\n",
       "      <td>0.0</td>\n",
       "      <td>325.875000</td>\n",
       "    </tr>\n",
       "    <tr>\n",
       "      <th>1</th>\n",
       "      <td>13.000</td>\n",
       "      <td>61.125</td>\n",
       "      <td>0.0</td>\n",
       "      <td>235.700000</td>\n",
       "    </tr>\n",
       "    <tr>\n",
       "      <th>2</th>\n",
       "      <td>9.500</td>\n",
       "      <td>62.625</td>\n",
       "      <td>0.0</td>\n",
       "      <td>180.866667</td>\n",
       "    </tr>\n",
       "    <tr>\n",
       "      <th>3</th>\n",
       "      <td>9.125</td>\n",
       "      <td>60.625</td>\n",
       "      <td>0.0</td>\n",
       "      <td>157.800000</td>\n",
       "    </tr>\n",
       "    <tr>\n",
       "      <th>4</th>\n",
       "      <td>8.500</td>\n",
       "      <td>130.300</td>\n",
       "      <td>0.0</td>\n",
       "      <td>220.700000</td>\n",
       "    </tr>\n",
       "  </tbody>\n",
       "</table>\n",
       "</div>"
      ],
      "text/plain": [
       "      SOi      Noi  Rpi        SPMi\n",
       "0  16.125   69.750  0.0  325.875000\n",
       "1  13.000   61.125  0.0  235.700000\n",
       "2   9.500   62.625  0.0  180.866667\n",
       "3   9.125   60.625  0.0  157.800000\n",
       "4   8.500  130.300  0.0  220.700000"
      ]
     },
     "execution_count": 32,
     "metadata": {},
     "output_type": "execute_result"
    }
   ],
   "source": [
    "X=df[['SOi','Noi','Rpi','SPMi']]\n",
    "Y=df['AQI']\n",
    "X.head()\n",
    "# we only select columns like soi, noi, rpi, spmi"
   ]
  },
  {
   "cell_type": "code",
   "execution_count": 33,
   "id": "9b4acc05",
   "metadata": {
    "execution": {
     "iopub.execute_input": "2022-03-31T11:20:51.112898Z",
     "iopub.status.busy": "2022-03-31T11:20:51.112224Z",
     "iopub.status.idle": "2022-03-31T11:20:51.121618Z",
     "shell.execute_reply": "2022-03-31T11:20:51.122412Z",
     "shell.execute_reply.started": "2022-03-31T11:12:16.652232Z"
    },
    "papermill": {
     "duration": 0.129659,
     "end_time": "2022-03-31T11:20:51.122698",
     "exception": false,
     "start_time": "2022-03-31T11:20:50.993039",
     "status": "completed"
    },
    "tags": []
   },
   "outputs": [
    {
     "data": {
      "text/plain": [
       "0    325.875000\n",
       "1    235.700000\n",
       "2    180.866667\n",
       "3    157.800000\n",
       "4    220.700000\n",
       "Name: AQI, dtype: float64"
      ]
     },
     "execution_count": 33,
     "metadata": {},
     "output_type": "execute_result"
    }
   ],
   "source": [
    "Y.head()\n",
    "# the AQI column is the target column"
   ]
  },
  {
   "cell_type": "code",
   "execution_count": 34,
   "id": "458b8bd7",
   "metadata": {
    "execution": {
     "iopub.execute_input": "2022-03-31T11:20:51.371562Z",
     "iopub.status.busy": "2022-03-31T11:20:51.370897Z",
     "iopub.status.idle": "2022-03-31T11:20:51.427837Z",
     "shell.execute_reply": "2022-03-31T11:20:51.428314Z",
     "shell.execute_reply.started": "2022-03-31T11:12:16.661672Z"
    },
    "papermill": {
     "duration": 0.174551,
     "end_time": "2022-03-31T11:20:51.428529",
     "exception": false,
     "start_time": "2022-03-31T11:20:51.253978",
     "status": "completed"
    },
    "tags": []
   },
   "outputs": [
    {
     "name": "stdout",
     "output_type": "stream",
     "text": [
      "(133174, 4) (33294, 4) (133174,) (33294,)\n"
     ]
    },
    {
     "data": {
      "text/plain": [
       "38379     218.000000\n",
       "53372     177.333333\n",
       "39291     200.000000\n",
       "115609    405.581395\n",
       "49939      75.000000\n",
       "             ...    \n",
       "45024      28.000000\n",
       "159060    315.000000\n",
       "80768     280.330000\n",
       "152635    426.088372\n",
       "156988    150.000000\n",
       "Name: AQI, Length: 133174, dtype: float64"
      ]
     },
     "execution_count": 34,
     "metadata": {},
     "output_type": "execute_result"
    }
   ],
   "source": [
    "X_train,X_test,Y_train,Y_test=train_test_split(X,Y,test_size=0.2,random_state=70)\n",
    "print(X_train.shape,X_test.shape,Y_train.shape,Y_test.shape)\n",
    "# splitting the data into training and testing data\n",
    "X_train\n",
    "Y_train"
   ]
  },
  {
   "cell_type": "markdown",
   "id": "c4356862",
   "metadata": {
    "papermill": {
     "duration": 0.115073,
     "end_time": "2022-03-31T11:20:51.658643",
     "exception": false,
     "start_time": "2022-03-31T11:20:51.543570",
     "status": "completed"
    },
    "tags": []
   },
   "source": [
    "### Linear Regression"
   ]
  },
  {
   "cell_type": "code",
   "execution_count": 35,
   "id": "32f3a110",
   "metadata": {
    "execution": {
     "iopub.execute_input": "2022-03-31T11:20:51.898734Z",
     "iopub.status.busy": "2022-03-31T11:20:51.897548Z",
     "iopub.status.idle": "2022-03-31T11:20:51.949835Z",
     "shell.execute_reply": "2022-03-31T11:20:51.949280Z",
     "shell.execute_reply.started": "2022-03-31T11:12:16.720648Z"
    },
    "papermill": {
     "duration": 0.174517,
     "end_time": "2022-03-31T11:20:51.949998",
     "exception": false,
     "start_time": "2022-03-31T11:20:51.775481",
     "status": "completed"
    },
    "tags": []
   },
   "outputs": [
    {
     "data": {
      "text/plain": [
       "LinearRegression()"
      ]
     },
     "execution_count": 35,
     "metadata": {},
     "output_type": "execute_result"
    }
   ],
   "source": [
    "model=LinearRegression()\n",
    "model.fit(X_train,Y_train)"
   ]
  },
  {
   "cell_type": "code",
   "execution_count": 36,
   "id": "31d6d227",
   "metadata": {
    "execution": {
     "iopub.execute_input": "2022-03-31T11:20:52.188732Z",
     "iopub.status.busy": "2022-03-31T11:20:52.188010Z",
     "iopub.status.idle": "2022-03-31T11:20:52.199399Z",
     "shell.execute_reply": "2022-03-31T11:20:52.200486Z",
     "shell.execute_reply.started": "2022-03-31T11:12:16.777477Z"
    },
    "papermill": {
     "duration": 0.1352,
     "end_time": "2022-03-31T11:20:52.200792",
     "exception": false,
     "start_time": "2022-03-31T11:20:52.065592",
     "status": "completed"
    },
    "tags": []
   },
   "outputs": [
    {
     "data": {
      "text/plain": [
       "array([368.28100931, 245.04679904, 313.72735295, ..., 142.08950178,\n",
       "       377.83495661, 373.05256871])"
      ]
     },
     "execution_count": 36,
     "metadata": {},
     "output_type": "execute_result"
    }
   ],
   "source": [
    "#predicting on test\n",
    "test_pred=model.predict(X_test)\n",
    "test_pred"
   ]
  },
  {
   "cell_type": "code",
   "execution_count": 37,
   "id": "c0aae4bd",
   "metadata": {
    "execution": {
     "iopub.execute_input": "2022-03-31T11:20:52.496721Z",
     "iopub.status.busy": "2022-03-31T11:20:52.495516Z",
     "iopub.status.idle": "2022-03-31T11:20:52.516858Z",
     "shell.execute_reply": "2022-03-31T11:20:52.515871Z",
     "shell.execute_reply.started": "2022-03-31T11:12:16.796704Z"
    },
    "papermill": {
     "duration": 0.145061,
     "end_time": "2022-03-31T11:20:52.517099",
     "exception": false,
     "start_time": "2022-03-31T11:20:52.372038",
     "status": "completed"
    },
    "scrolled": true,
    "tags": []
   },
   "outputs": [
    {
     "name": "stdout",
     "output_type": "stream",
     "text": [
      "RMSE TestData =  2.6740923001516435\n"
     ]
    }
   ],
   "source": [
    "RMSE_test=(np.sqrt(metrics.mean_squared_error(Y_test,test_pred)))\n",
    "print(\"RMSE TestData = \",str(RMSE_test))"
   ]
  },
  {
   "cell_type": "code",
   "execution_count": 38,
   "id": "e0f6a777",
   "metadata": {},
   "outputs": [
    {
     "name": "stdout",
     "output_type": "stream",
     "text": [
      "R-squared (R2) Score: 0.999436300706352\n"
     ]
    }
   ],
   "source": [
    "# Calculate R-squared (R2) Score\n",
    "r2 = r2_score(Y_test, test_pred)\n",
    "print(\"R-squared (R2) Score:\", r2)\n"
   ]
  },
  {
   "cell_type": "code",
   "execution_count": 39,
   "id": "c4f5165d",
   "metadata": {},
   "outputs": [
    {
     "data": {
      "image/png": "[encoded data removed]",
      "text/plain": [
       "<Figure size 640x480 with 1 Axes>"
      ]
     },
     "metadata": {},
     "output_type": "display_data"
    }
   ],
   "source": [
    "# Create a scatter plot of the true target values (Y_test) against the predicted target values (Y_pred)\n",
    "plt.scatter(Y_test,test_pred , color='red')\n",
    "plt.plot([min(Y_test), max(Y_test)], [min(Y_test), max(Y_test)], color='blue')  # Diagonal line for comparison\n",
    "plt.xlabel('True Values')\n",
    "plt.ylabel('Predicted Values')\n",
    "plt.title('Linear Regression of Scatter Plot of True vs. Predicted Values')\n",
    "plt.show()"
   ]
  },
  {
   "cell_type": "markdown",
   "id": "f3208ac0",
   "metadata": {
    "papermill": {
     "duration": 0.117631,
     "end_time": "2022-03-31T11:20:54.651343",
     "exception": false,
     "start_time": "2022-03-31T11:20:54.533712",
     "status": "completed"
    },
    "tags": []
   },
   "source": [
    "### Random Forest Regressor"
   ]
  },
  {
   "cell_type": "code",
   "execution_count": 40,
   "id": "2c8265f7",
   "metadata": {
    "execution": {
     "iopub.execute_input": "2022-03-31T11:20:54.898437Z",
     "iopub.status.busy": "2022-03-31T11:20:54.897800Z",
     "iopub.status.idle": "2022-03-31T11:21:42.152516Z",
     "shell.execute_reply": "2022-03-31T11:21:42.151891Z",
     "shell.execute_reply.started": "2022-03-31T11:12:17.750284Z"
    },
    "papermill": {
     "duration": 47.379962,
     "end_time": "2022-03-31T11:21:42.152692",
     "exception": false,
     "start_time": "2022-03-31T11:20:54.772730",
     "status": "completed"
    },
    "tags": []
   },
   "outputs": [],
   "source": [
    "RF=RandomForestRegressor().fit(X_train,Y_train)"
   ]
  },
  {
   "cell_type": "code",
   "execution_count": 41,
   "id": "aa936037",
   "metadata": {
    "execution": {
     "iopub.execute_input": "2022-03-31T11:21:42.393915Z",
     "iopub.status.busy": "2022-03-31T11:21:42.392923Z",
     "iopub.status.idle": "2022-03-31T11:21:49.690707Z",
     "shell.execute_reply": "2022-03-31T11:21:49.691257Z",
     "shell.execute_reply.started": "2022-03-31T11:13:03.465584Z"
    },
    "papermill": {
     "duration": 7.41923,
     "end_time": "2022-03-31T11:21:49.691442",
     "exception": false,
     "start_time": "2022-03-31T11:21:42.272212",
     "status": "completed"
    },
    "tags": []
   },
   "outputs": [],
   "source": [
    "#predicting on test\n",
    "test_preds1=RF.predict(X_test)"
   ]
  },
  {
   "cell_type": "code",
   "execution_count": 42,
   "id": "2bef9e0e",
   "metadata": {
    "execution": {
     "iopub.execute_input": "2022-03-31T11:21:49.936328Z",
     "iopub.status.busy": "2022-03-31T11:21:49.935665Z",
     "iopub.status.idle": "2022-03-31T11:21:57.273661Z",
     "shell.execute_reply": "2022-03-31T11:21:57.272794Z",
     "shell.execute_reply.started": "2022-03-31T11:13:10.758004Z"
    },
    "papermill": {
     "duration": 7.463089,
     "end_time": "2022-03-31T11:21:57.273827",
     "exception": false,
     "start_time": "2022-03-31T11:21:49.810738",
     "status": "completed"
    },
    "tags": []
   },
   "outputs": [
    {
     "name": "stdout",
     "output_type": "stream",
     "text": [
      "RMSE TestData =  0.8856371972569427\n",
      "RSquared value on test: 0.9999381689813595\n"
     ]
    }
   ],
   "source": [
    "RMSE_test=(np.sqrt(metrics.mean_squared_error(Y_test,test_preds1)))\n",
    "#print(\"RMSE TrainingData = \",str(RMSE_train))\n",
    "print(\"RMSE TestData = \",str(RMSE_test))\n",
    "print('RSquared value on test:',RF.score(X_test, Y_test))"
   ]
  },
  {
   "cell_type": "code",
   "execution_count": 43,
   "id": "9d0f2f0e",
   "metadata": {},
   "outputs": [
    {
     "name": "stdout",
     "output_type": "stream",
     "text": [
      "R-squared (R2) Score: 0.9999381689813595\n"
     ]
    }
   ],
   "source": [
    "from sklearn.metrics import r2_score\n",
    "\n",
    "# Calculate R-squared (R2) Score\n",
    "r2 = r2_score(Y_test, test_preds1)\n",
    "print(\"R-squared (R2) Score:\", r2)\n"
   ]
  },
  {
   "cell_type": "code",
   "execution_count": 44,
   "id": "331bc729",
   "metadata": {},
   "outputs": [
    {
     "data": {
      "image/png": "[encoded data removed]",
      "text/plain": [
       "<Figure size 640x480 with 1 Axes>"
      ]
     },
     "metadata": {},
     "output_type": "display_data"
    }
   ],
   "source": [
    "# Create a scatter plot of the true target values (Y_test) against the predicted target values (Y_pred)\n",
    "plt.scatter(Y_test,test_preds1 , color='red')\n",
    "plt.plot([min(Y_test), max(Y_test)], [min(Y_test), max(Y_test)], color='blue')  # Diagonal line for comparison\n",
    "plt.xlabel('True Values')\n",
    "plt.ylabel('Predicted Values')\n",
    "plt.title('Scatter Plot of True vs. Predicted Values')\n",
    "plt.show()\n",
    "\n"
   ]
  },
  {
   "cell_type": "code",
   "execution_count": 47,
   "id": "f6d00107",
   "metadata": {},
   "outputs": [],
   "source": [
    "from tensorflow.keras.models import Sequential\n",
    "from tensorflow.keras.layers import Dense"
   ]
  },
  {
   "cell_type": "code",
   "execution_count": 49,
   "id": "5e5921d3",
   "metadata": {},
   "outputs": [
    {
     "name": "stdout",
     "output_type": "stream",
     "text": [
      "WARNING:tensorflow:Falling back from v2 loop because of error: Failed to find data adapter that can handle input: <class 'pandas.core.frame.DataFrame'>, <class 'NoneType'>\n",
      "Train on 119856 samples, validate on 13318 samples\n",
      "Epoch 1/15\n",
      "119856/119856 [==============================] - 11s 89us/sample - loss: 133.9808 - mae: 1.1766 - mse: 133.9781 - val_loss: 0.3099 - val_mae: 0.1327 - val_mse: 0.3099\n",
      "Epoch 2/15\n",
      "119856/119856 [==============================] - 11s 92us/sample - loss: 0.9826 - mae: 0.3298 - mse: 0.9826 - val_loss: 0.3803 - val_mae: 0.1644 - val_mse: 0.3803\n",
      "Epoch 3/15\n",
      "119856/119856 [==============================] - 11s 95us/sample - loss: 0.7908 - mae: 0.2748 - mse: 0.7908 - val_loss: 0.3749 - val_mae: 0.2042 - val_mse: 0.3749\n",
      "Epoch 4/15\n",
      "119856/119856 [==============================] - 11s 91us/sample - loss: 0.7505 - mae: 0.2845 - mse: 0.7505 - val_loss: 0.2913 - val_mae: 0.1391 - val_mse: 0.2913\n",
      "Epoch 5/15\n",
      "119856/119856 [==============================] - 12s 96us/sample - loss: 0.7567 - mae: 0.2534 - mse: 0.7567 - val_loss: 0.3011 - val_mae: 0.1222 - val_mse: 0.3011\n",
      "Epoch 6/15\n",
      "119856/119856 [==============================] - 11s 91us/sample - loss: 0.7506 - mae: 0.2558 - mse: 0.7506 - val_loss: 0.3856 - val_mae: 0.2928 - val_mse: 0.3856\n",
      "Epoch 7/15\n",
      "119856/119856 [==============================] - 11s 89us/sample - loss: 0.6282 - mae: 0.2094 - mse: 0.6282 - val_loss: 0.2535 - val_mae: 0.0374 - val_mse: 0.2535\n",
      "Epoch 8/15\n",
      "119856/119856 [==============================] - 11s 94us/sample - loss: 0.6475 - mae: 0.2122 - mse: 0.6475 - val_loss: 0.3570 - val_mae: 0.1295 - val_mse: 0.3570\n",
      "Epoch 9/15\n",
      "119856/119856 [==============================] - 11s 94us/sample - loss: 0.6913 - mae: 0.2206 - mse: 0.6913 - val_loss: 0.2530 - val_mae: 0.0608 - val_mse: 0.2530\n",
      "Epoch 10/15\n",
      "119856/119856 [==============================] - 11s 95us/sample - loss: 0.6670 - mae: 0.1898 - mse: 0.6670 - val_loss: 0.2579 - val_mae: 0.0476 - val_mse: 0.2579\n",
      "Epoch 11/15\n",
      "119856/119856 [==============================] - 11s 93us/sample - loss: 0.6576 - mae: 0.2026 - mse: 0.6576 - val_loss: 0.3884 - val_mae: 0.3409 - val_mse: 0.3884\n",
      "Epoch 12/15\n",
      "119856/119856 [==============================] - 11s 95us/sample - loss: 0.7278 - mae: 0.1932 - mse: 0.7278 - val_loss: 0.2740 - val_mae: 0.0360 - val_mse: 0.2740\n",
      "Epoch 13/15\n",
      "119856/119856 [==============================] - 11s 93us/sample - loss: 0.5728 - mae: 0.1807 - mse: 0.5728 - val_loss: 0.2616 - val_mae: 0.0783 - val_mse: 0.2616\n",
      "Epoch 14/15\n",
      "119856/119856 [==============================] - 11s 92us/sample - loss: 0.6448 - mae: 0.2031 - mse: 0.6448 - val_loss: 15.4097 - val_mae: 3.3882 - val_mse: 15.4097\n",
      "Epoch 15/15\n",
      "119856/119856 [==============================] - 11s 93us/sample - loss: 0.5525 - mae: 0.1632 - mse: 0.5525 - val_loss: 0.2801 - val_mae: 0.1074 - val_mse: 0.2801\n",
      "WARNING:tensorflow:Falling back from v2 loop because of error: Failed to find data adapter that can handle input: <class 'pandas.core.frame.DataFrame'>, <class 'NoneType'>\n",
      "33294/33294 [==============================] - 1s 24us/sample - loss: 0.1871 - mae: 0.1024 - mse: 0.1871\n",
      "WARNING:tensorflow:Falling back from v2 loop because of error: Failed to find data adapter that can handle input: <class 'pandas.core.frame.DataFrame'>, <class 'NoneType'>\n"
     ]
    }
   ],
   "source": [
    "# Build the neural network\n",
    "model = Sequential([\n",
    "    Dense(64, activation='relu', input_shape=(X_train.shape[1],)),\n",
    "    Dense(32, activation='relu',),\n",
    "    Dense(16, activation='relu'),  # Additional hidden layer\n",
    "    Dense(8, activation='relu'),   # Additional hidden layer\n",
    "    Dense(4, activation='relu'),   # Additional hidden layer\n",
    "    Dense(1)  # Output layer (1 neuron for regression)\n",
    "])\n",
    "\n",
    "# Compile the model\n",
    "model.compile(optimizer='adam',  # Changed optimizer to 'adam'\n",
    "              loss='mean_squared_error',\n",
    "              metrics=['mae', 'mse'])\n",
    "\n",
    "# Train the model\n",
    "model.fit(X_train, Y_train, epochs=15, batch_size=16, validation_split=0.1)\n",
    "\n",
    "# Evaluate the model\n",
    "test_loss = model.evaluate(X_test, Y_test)\n",
    "\n",
    "# Predict harvest quantity\n",
    "predictions = model.predict(X_test)\n"
   ]
  },
  {
   "cell_type": "code",
   "execution_count": 58,
   "id": "7bc2b5aa",
   "metadata": {},
   "outputs": [],
   "source": [
    "# Save the model to a file\n",
    "model.save(\"prediction_model.h5\")\n"
   ]
  },
  {
   "cell_type": "code",
   "execution_count": 50,
   "id": "c2b9d4a3",
   "metadata": {},
   "outputs": [
    {
     "name": "stdout",
     "output_type": "stream",
     "text": [
      "r2_score: 0.9999852433894266\n"
     ]
    }
   ],
   "source": [
    "r2_score=r2_score(predictions,Y_test)\n",
    "print(\"r2_score:\",r2_score)"
   ]
  },
  {
   "cell_type": "code",
   "execution_count": 52,
   "id": "e79ecf86",
   "metadata": {},
   "outputs": [
    {
     "name": "stdout",
     "output_type": "stream",
     "text": [
      "Mean Squared Error: 0.1871396244894178\n"
     ]
    }
   ],
   "source": [
    "# Calculate Mean Squared Error (MSE)\n",
    "mse = mean_squared_error(Y_test,predictions)\n",
    "print(f'Mean Squared Error: {mse}')"
   ]
  },
  {
   "cell_type": "code",
   "execution_count": 55,
   "id": "66f14adf",
   "metadata": {},
   "outputs": [
    {
     "name": "stdout",
     "output_type": "stream",
     "text": [
      "Mean absolute Error: 0.10242273039171312\n"
     ]
    }
   ],
   "source": [
    "# Calculate Mean Squared Error (MSE)\n",
    "mae = mean_absolute_error(Y_test,predictions)\n",
    "print(f'Mean absolute Error: {mae}')"
   ]
  },
  {
   "cell_type": "code",
   "execution_count": 56,
   "id": "4df9b8f2",
   "metadata": {},
   "outputs": [
    {
     "data": {
      "image/png": "[encoded data removed]",
      "text/plain": [
       "<Figure size 640x480 with 1 Axes>"
      ]
     },
     "metadata": {},
     "output_type": "display_data"
    }
   ],
   "source": [
    "# Create a scatter plot of the true target values (Y_test) against the predicted target values (Y_pred)\n",
    "plt.scatter(Y_test,predictions , color='red')\n",
    "plt.plot([min(Y_test), max(Y_test)], [min(Y_test), max(Y_test)], color='blue')  # Diagonal line for comparison\n",
    "plt.xlabel('True Values')\n",
    "plt.ylabel('Predicted Values')\n",
    "plt.title('Scatter Plot of True vs. Predicted Values')\n",
    "plt.show()\n",
    "\n"
   ]
  },
  {
   "cell_type": "code",
   "execution_count": null,
   "id": "82e09283",
   "metadata": {},
   "outputs": [],
   "source": [
    "# Create a DataFrame with the actual and predicted values\n",
    "df = pd.DataFrame({'Actual': Y_test, 'Predicted': test_preds1})\n",
    "\n",
    "# Print the DataFrame\n",
    "print(df)"
   ]
  },
  {
   "cell_type": "code",
   "execution_count": null,
   "id": "ef454cbb",
   "metadata": {},
   "outputs": [],
   "source": [
    "    "
   ]
  },
  {
   "cell_type": "code",
   "execution_count": 57,
   "id": "cb9e080a",
   "metadata": {},
   "outputs": [
    {
     "name": "stdout",
     "output_type": "stream",
     "text": [
      "Enter the value of SOI:12\n",
      "Enter the value of NOI:12\n",
      "Enter the value of RPI:12\n",
      "Enter the value of SPM:12\n",
      "Predicted Value: [13.008349]\n",
      "AIR Quality is predicated as --> Good\n"
     ]
    }
   ],
   "source": [
    "#SOi\tNoi\tRpiSPM\n",
    "\n",
    "SOi = float(input(\"Enter the value of SOI:\"))\n",
    "NOi = float(input(\"Enter the value of NOI:\"))\n",
    "RPi = float(input(\"Enter the value of RPI:\"))\n",
    "SPM = float(input(\"Enter the value of SPM:\"))\n",
    "# Create a numpy array with the input values\n",
    "input_data = np.array([[SOi, NOi, RPi, SPM]])\n",
    "\n",
    "# Make predictions using the trained model\n",
    "predicted_value = model.predict(input_data)\n",
    "\n",
    "# Print the predicted value\n",
    "print(\"Predicted Value:\", predicted_value[0])\n",
    "if predicted_value<=50:\n",
    "    print(\"AIR Quality is predicated as --> Good\")\n",
    "elif predicted_value>50 and predicted_value<=100:\n",
    "    print (\"AIR Quality is predicated as --> Moderate\")\n",
    "elif predicted_value>100 and predicted_value<=200:\n",
    "     print (\"AIR Quality is predicated as --> Poor\")\n",
    "elif predicted_value>200 and predicted_value<=300:\n",
    "     print (\"AIR Quality is predicated as --> Unhealthy\")\n",
    "elif predicted_value>300 and predicted_value<=400:\n",
    "     print (\"AIR Quality is predicated as --> Very unhealthy\")\n",
    "elif predicted_value>400:\n",
    "     print (\"AIR Quality is predicated as --> Hazardous\")"
   ]
  },
  {
   "cell_type": "code",
   "execution_count": null,
   "id": "38dcb1a8",
   "metadata": {},
   "outputs": [],
   "source": []
  }
 ],
 "metadata": {
  "kernelspec": {
   "display_name": "Python 3 (ipykernel)",
   "language": "python",
   "name": "python3"
  },
  "language_info": {
   "codemirror_mode": {
    "name": "ipython",
    "version": 3
   },
   "file_extension": ".py",
   "mimetype": "text/x-python",
   "name": "python",
   "nbconvert_exporter": "python",
   "pygments_lexer": "ipython3",
   "version": "3.7.5"
  },
  "papermill": {
   "default_parameters": {},
   "duration": 254.938724,
   "end_time": "2022-03-31T11:23:17.730970",
   "environment_variables": {},
   "exception": null,
   "input_path": "__notebook__.ipynb",
   "output_path": "__notebook__.ipynb",
   "parameters": {},
   "start_time": "2022-03-31T11:19:02.792246",
   "version": "2.3.3"
  }
 },
 "nbformat": 4,
 "nbformat_minor": 5
}
